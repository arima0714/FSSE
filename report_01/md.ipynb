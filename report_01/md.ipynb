{
 "cells": [
  {
   "cell_type": "markdown",
   "metadata": {},
   "source": [
    "# 概要\n",
    "\n",
    "* 計算物理学入門のP223～P230に掲載されているプログラム md をPythonで再現するためのファイル\n"
   ]
  },
  {
   "cell_type": "code",
   "execution_count": 1,
   "metadata": {},
   "outputs": [],
   "source": [
    "import sys\n",
    "import time\n",
    "import matplotlib.pyplot as plt"
   ]
  },
  {
   "cell_type": "code",
   "execution_count": 2,
   "metadata": {},
   "outputs": [],
   "source": [
    "# 変数の宣言\n",
    "\n",
    "x = [0] * 16\n",
    "y = [0] * 16\n",
    "vx = [0] * 16\n",
    "vy = [0] * 16\n",
    "ax = [0] * 16\n",
    "ay = [0] * 16\n",
    "\n",
    "N = 0\n",
    "Lx = 0\n",
    "Ly = 0\n",
    "dt = 0\n",
    "dt2 = 0\n",
    "\n",
    "gcum = []\n",
    "for i in range(1000):\n",
    "    gcum.append(i)\n",
    "nbin = 0\n",
    "dr = 0\n",
    "xsave = [0] * 100\n",
    "ysave = [0] * 100\n",
    "R2cum = [0] * 100\n",
    "\n",
    "# 変数の宣言２(グローバルで扱ったほうが良いものを追加している)\n",
    "t = 0\n",
    "ke = 0\n",
    "kecum = 0\n",
    "pecum = 0\n",
    "vcum = 0\n",
    "area = 0\n",
    "pbc = 0\n",
    "\n",
    "pe = 0\n",
    "virial = 0\n",
    "\n",
    "dx = 0\n",
    "dy = 0\n",
    "fx = 0\n",
    "fy = 0\n",
    "fxij = 0\n",
    "fyij = 0\n",
    "pot = 0"
   ]
  },
  {
   "cell_type": "code",
   "execution_count": 3,
   "metadata": {},
   "outputs": [],
   "source": [
    "def initial():\n",
    "    global pbc\n",
    "    abc = 0\n",
    "    global dt\n",
    "    dt = 0.01\n",
    "    global dt2\n",
    "    dt= dt * dt\n",
    "    \n",
    "    response = \"\"\n",
    "    global N\n",
    "    N = 16\n",
    "    global Lx\n",
    "    Lx = 6\n",
    "    global Ly\n",
    "    Ly = 6\n",
    "    \n",
    "    DATA = [\n",
    "        1.09,0.98,-0.33,0.78,3.12,5.25,0.12,-1.19\n",
    "      , 0.08,2.38,-0.08,-0.10,0.54,4.08,-1.94,-0.56\n",
    "      , 2.52,4.39,0.75,0.34,3.03,2.94,1.70,-1.08\n",
    "      , 4.25,3.01,0.84,0.47,0.89,3.11,-1.04,0.06\n",
    "      , 2.76,0.31,1.64,1.36,3.14,1.91,0.38,-1.24\n",
    "      , 0.23,5.71,-1.58,0.55,1.91,2.46,-1.55,-0.16\n",
    "      , 4.77,0.96,-0.23,-0.83,5.10,4.63,-0.31,0.65\n",
    "      , 4.97,5.88,1.18,1.48,3.90,0.20,0.46,-0.51\n",
    "    ]\n",
    "    \n",
    "    global x\n",
    "    global y\n",
    "    global vx\n",
    "    global vy\n",
    "    \n",
    "    for i in range(N):\n",
    "        x[i] = DATA[4*i+0]\n",
    "        y[i] = DATA[4*i+1]\n",
    "        vx[i] = DATA[4*i+2]\n",
    "        vy[i] = DATA[4*i+3]\n",
    "    \n",
    "    global ke\n",
    "    ke = 0\n",
    "    for i in range(N):\n",
    "        ke = ke + vx[i]* vx[i] + vy[i]* vy[i]\n",
    "    ke = 0.5 * ke\n",
    "    global area\n",
    "    area = Lx * Ly\n",
    "    global t\n",
    "    t = 0\n",
    "    global kecum\n",
    "    kecum = 0\n",
    "    global pecum\n",
    "    pecum = 0\n",
    "    global vcum\n",
    "    vcum = 0    "
   ]
  },
  {
   "cell_type": "code",
   "execution_count": 4,
   "metadata": {},
   "outputs": [],
   "source": [
    "def separation(ds, L):\n",
    "    if (ds > 0.5 * L):\n",
    "        return ds - L\n",
    "    elif (ds < -0.5 * L):\n",
    "        return ds + L\n",
    "    else:\n",
    "        return ds"
   ]
  },
  {
   "cell_type": "code",
   "execution_count": 5,
   "metadata": {},
   "outputs": [],
   "source": [
    "def force():\n",
    "    global dx\n",
    "    global dy\n",
    "    global fxij\n",
    "    global fyij\n",
    "    global pot\n",
    "    r2 = dx*dx + dy*dy\n",
    "    rm2 = 1/r2\n",
    "    rm6 = rm2 * rm2 * rm2\n",
    "    f_over_r = 24 * rm6 * (2 * rm6 - 1) * rm2\n",
    "    fxij = f_over_r * dx\n",
    "    fyij = f_over_r * dy\n",
    "    pot = 4 * (rm6 * rm6 - rm6)"
   ]
  },
  {
   "cell_type": "code",
   "execution_count": 6,
   "metadata": {},
   "outputs": [],
   "source": [
    "def accel():\n",
    "    global pe\n",
    "    pe = 0\n",
    "    global virial\n",
    "    virial = 0\n",
    "    global N\n",
    "    global x\n",
    "    global y\n",
    "    global Lx\n",
    "    global Ly\n",
    "    global ax\n",
    "    global ay\n",
    "    global dx\n",
    "    global dy\n",
    "    global pot\n",
    "    for i in range(N-1):\n",
    "        for j in range(i+1, N):\n",
    "            dx = separation(x[i] - x[j], Lx)\n",
    "            dy = separation(y[i] - y[j], Ly)\n",
    "            force()\n",
    "            ax[i] = ax[i] + fxij\n",
    "            ay[i] = ay[i] + fyij\n",
    "            ax[j] = ax[j] - fxij\n",
    "            ay[j] = ay[j] - fyij\n",
    "            pe = pe + pot\n",
    "            virial = virial + dx*fxij + dy*fyij\n",
    "            "
   ]
  },
  {
   "cell_type": "code",
   "execution_count": 7,
   "metadata": {},
   "outputs": [],
   "source": [
    "def pbc(pos, L):\n",
    "    if (pos < L):\n",
    "        return (pos+L)\n",
    "    elif(pos > L):\n",
    "        return (pos-L)\n",
    "    else:\n",
    "        return (pos)\n",
    "    "
   ]
  },
  {
   "cell_type": "code",
   "execution_count": 8,
   "metadata": {},
   "outputs": [],
   "source": [
    "def Verlet():\n",
    "    global x\n",
    "    global y\n",
    "    global vx\n",
    "    global vy\n",
    "    global ax\n",
    "    global ay\n",
    "    global N\n",
    "    global Lx\n",
    "    global Ly\n",
    "    global dt\n",
    "    global dt2\n",
    "    global ke\n",
    "    global t\n",
    "    \n",
    "    for i in range(N):\n",
    "        xnew = x[i] + vx[i] * dt + 0.5 * ax[i] * dt2\n",
    "        ynew = y[i] + vy[i] * dt + 0.5 * ay[i] * dt2\n",
    "        vx[i] = vx[i] + 0.5 * ax[i] * dt\n",
    "        vy[i] = vy[i] + 0.5 * ay[i] * dt\n",
    "        x[i] = pbc(xnew, Lx)\n",
    "        y[i] = pbc(ynew, Ly)\n",
    "        \n",
    "    accel()\n",
    "        \n",
    "    ke = 0\n",
    "    for i in range(N):\n",
    "        vx[i] = vx[i] + 0.5 * ax[i] * dt\n",
    "        vy[i] = vy[i] + 0.5 * ay[i] * dt\n",
    "        ke = ke + vx[i] * vx[i] + vy[i] * vy[i]\n",
    "        ke = 0.5 * ke\n",
    "        t = t + 1"
   ]
  },
  {
   "cell_type": "code",
   "execution_count": 9,
   "metadata": {},
   "outputs": [],
   "source": [
    "def show_output():\n",
    "    global t\n",
    "    global ke\n",
    "    global pe\n",
    "    global virial\n",
    "    global kecum\n",
    "    global vcum\n",
    "    global ncum\n",
    "    global area\n",
    "    global N\n",
    "    global Lx\n",
    "    global Ly\n",
    "\n",
    "    print_str = \"\"\n",
    "    print_str += \"ncum:\"+str(ncum)\n",
    "    print_str += \", t:\"+str(t)\n",
    "    E = ke + pe\n",
    "    print_str += \", E:\"+'{:.3f}'.format(E)\n",
    "    kecum = kecum + ke\n",
    "    vcum = vcum + virial\n",
    "    mean_ke = kecum / ncum\n",
    "    p = mean_ke + (0.5 * vcum) / ncum\n",
    "    p = p / area\n",
    "    print_str += \", mean_ke/N:\"+'{:.3f}'.format(mean_ke/N)\n",
    "    print_str += \", p:\"+'{:.3f}'.format(p)\n",
    "    \n",
    "    print_str += \", ke:\"+'{:.3f}'.format(ke)\n",
    "    print_str += \", pe:\"+'{:.3f}'.format(pe)\n",
    "    print_str += \", sum(vx):\"+'{:.5f}'.format(sum(vx))\n",
    "    print_str += \", sum(vy):\"+'{:.5f}'.format(sum(vy))\n",
    "    print_str += \", sum(ax):\"+'{:.5f}'.format(sum(ax))\n",
    "    print_str += \", sum(ay):\"+'{:.5f}'.format(sum(ay))\n",
    "    \n",
    "    print(print_str)\n",
    "    \n"
   ]
  },
  {
   "cell_type": "code",
   "execution_count": 10,
   "metadata": {},
   "outputs": [
    {
     "name": "stdout",
     "output_type": "stream",
     "text": [
      "ncum:10000, t:160000, E:783291177698600610370158592.000, mean_ke/N:4895569860616253341696.000, p:2175808826940557099008.000, ke:783291177698600610370158592.000, pe:-0.000, sum(vx):-85.39514, sum(vy):-21.35799, sum(ax):-0.00704, sum(ay):0.04565\n",
      "ncum:20000, t:320000, E:3286237170212716274700517376.000, mean_ke/N:12717276087222865494016.000, p:5652122705432384897024.000, ke:3286237170212716274700517376.000, pe:-0.000, sum(vx):1026.29706, sum(vy):-299.60118, sum(ax):-0.00704, sum(ay):0.04565\n",
      "ncum:30000, t:480000, E:7510663265172110416591978496.000, mean_ke/N:24125399193923805511680.000, p:10722399641743912861696.000, ke:7510663265172110416591978496.000, pe:-0.000, sum(vx):3412.56832, sum(vy):-577.94893, sum(ax):-0.00704, sum(ay):0.04565\n",
      "ncum:40000, t:640000, E:13456569462576250322660884480.000, mean_ke/N:39119939180718249213952.000, p:17386639635874777661440.000, ke:13456569462576250322660884480.000, pe:-0.000, sum(vx):5798.47154, sum(vy):-855.82256, sum(ax):-0.00704, sum(ay):0.04565\n",
      "ncum:50000, t:800000, E:21123955762423691234628337664.000, mean_ke/N:57700896047604204306432.000, p:25644842687824092200960.000, ke:21123955762423691234628337664.000, pe:-0.000, sum(vx):8184.62461, sum(vy):-1134.08607, sum(ax):-0.00704, sum(ay):0.04565\n",
      "ncum:60000, t:960000, E:30512822164718883975563575296.000, mean_ke/N:79868269794585676349440.000, p:35497008797593634865152.000, ke:30512822164718883975563575296.000, pe:-0.000, sum(vx):10075.02781, sum(vy):-1411.34930, sum(ax):-0.00704, sum(ay):0.04565\n",
      "ncum:70000, t:1120000, E:41623168669505918961740414976.000, mean_ke/N:105622060421703710801920.000, p:46943137965201652973568.000, ke:41623168669505918961740414976.000, pe:-0.000, sum(vx):7461.68089, sum(vy):-1689.61261, sum(ax):-0.00704, sum(ay):0.04565\n",
      "ncum:80000, t:1280000, E:54454995276751305068976799744.000, mean_ke/N:134962267928952695685120.000, p:59983230190645642526720.000, ke:54454995276751305068976799744.000, pe:-0.000, sum(vx):4846.78739, sum(vy):-1967.41064, sum(ax):-0.00704, sum(ay):0.04565\n",
      "ncum:90000, t:1440000, E:69008301986345561725471817728.000, mean_ke/N:167888892316253492871168.000, p:74617285473890438479872.000, ke:69008301986345561725471817728.000, pe:-0.000, sum(vx):2231.98295, sum(vy):3572.28790, sum(ax):-0.00704, sum(ay):0.04565\n",
      "ncum:100000, t:1600000, E:85283088798286226025179250688.000, mean_ke/N:204401933583557029003264.000, p:90845303814914238840832.000, ke:85283088798286226025179250688.000, pe:-0.000, sum(vx):-382.85567, sum(vy):13292.48956, sum(ax):-0.00704, sum(ay):0.04565\n",
      "x:[1.9053047658208496e+16, 37523505927.17715, -874833078911.4808, 1990746.2495891917, 3.710532770427452, -1412573472.885389, 1034642517.0180974, -1.905304709672488e+16, 142969744.84216747, 431047122.2972648, -1906542702237.2595, -202559254827.88556, 202441944080.80157, 874933595669.0905, 1905981427578.7625, -37706983170.846634]\n",
      "y:[2.664895140888352e+16, -1174844918941.5266, 2852439171620.2266, 1917788741.5043635, 674110.0790411, -11756518953.989138, -659418014.9945207, -2.6648951213118696e+16, -1908141914.2041209, 11302319541.447186, -1258298396929.6387, 120866384507.89204, -120888369456.7502, -2852735940456.9375, 1258401621230.659, 1175968055570.3562]\n",
      "vx:[3828277030160748.5, 7542118716.199419, -175779721243.0504, 510520.73549586756, 54437.97986524316, -284026683.7530548, 208051860.88796613, -3828276917354592.0, 28862101.96704399, 86765176.92491327, -383091947105.8793, -40697755777.7691, 40674189167.04136, 175799913197.57394, 382979173983.8759, -7578994891.590596]\n",
      "vy:[5354501305289455.0, -236136793837.05676, 573138727118.4832, 385668319.0807464, 240506.16993215217, -2363605725.731357, -132643421.6206495, -5354501265948586.0, -383729225.37976307, 2272304112.548887, -252836754734.69687, 24284254004.69218, -24288670743.392773, -573198349784.5725, 252857494762.5232, 236362531073.7672]\n"
     ]
    },
    {
     "data": {
      "image/png": "[encoded data removed]",
      "text/plain": [
       "<Figure size 432x288 with 1 Axes>"
      ]
     },
     "metadata": {
      "needs_background": "light"
     },
     "output_type": "display_data"
    },
    {
     "name": "stdout",
     "output_type": "stream",
     "text": [
      "ncum:110000, t:1760000, E:103279355712643174131067518976.000, mean_ke/N:244501391730871826907136.000, p:108667285213720810094592.000, ke:103279355712643174131067518976.000, pe:-0.000, sum(vx):-2997.19442, sum(vy):23015.12952, sum(ax):-0.00704, sum(ay):0.04565\n",
      "ncum:120000, t:1920000, E:122997102729372627888165093376.000, mean_ke/N:288187266758180740268032.000, p:128083229670302543773696.000, ke:122997102729372627888165093376.000, pe:-0.000, sum(vx):-3172.53316, sum(vy):32736.05902, sum(ax):-0.00704, sum(ay):0.04565\n",
      "ncum:130000, t:2080000, E:144436329848363932446252597248.000, mean_ke/N:335459558665418740596736.000, p:149093137184630549512192.000, ke:144436329848363932446252597248.000, pe:-0.000, sum(vx):4213.62809, sum(vy):42460.36798, sum(ax):-0.00704, sum(ay):0.04565\n",
      "ncum:140000, t:2240000, E:167597037069741534929408229376.000, mean_ke/N:386318267452594887589888.000, p:171697007756708853841920.000, ke:167597037069741534929408229376.000, pe:-0.000, sum(vx):11599.78935, sum(vy):52184.67694, sum(ax):-0.00704, sum(ay):0.04565\n",
      "ncum:150000, t:2400000, E:192479224393505312192329678848.000, mean_ke/N:440763393119715791470592.000, p:195894841386540359221248.000, ke:192479224393505312192329678848.000, pe:-0.000, sum(vx):18985.76817, sum(vy):61907.98590, sum(ax):-0.00704, sum(ay):0.04565\n",
      "ncum:160000, t:2560000, E:219082891819655369788133212160.000, mean_ke/N:498794935666786351185920.000, p:221686638074127263465472.000, ke:219082891819655369788133212160.000, pe:-0.000, sum(vx):26372.15025, sum(vy):71629.29474, sum(ax):-0.00704, sum(ay):0.04565\n",
      "ncum:170000, t:2720000, E:247408039348191778085563006976.000, mean_ke/N:560412895093810660376576.000, p:249072397819471412068352.000, ke:247408039348191778085563006976.000, pe:-0.000, sum(vx):33759.57517, sum(vy):81351.60370, sum(ax):-0.00704, sum(ay):0.04565\n",
      "ncum:180000, t:2880000, E:277454666979114325978386530304.000, mean_ke/N:625617271400791403397120.000, p:278052120622573945880576.000, ke:277454666979114325978386530304.000, pe:-0.000, sum(vx):41146.26231, sum(vy):91073.91254, sum(ax):-0.00704, sum(ay):0.04565\n",
      "ncum:190000, t:3040000, E:309222774712423119019720048640.000, mean_ke/N:694408064587730996166656.000, p:308625806483436005752832.000, ke:309222774712423119019720048640.000, pe:-0.000, sum(vx):48531.94944, sum(vy):100798.22308, sum(ax):-0.00704, sum(ay):0.04565\n",
      "ncum:200000, t:3200000, E:342712362548118262762679828480.000, mean_ke/N:766785274654631384842240.000, p:340793455402058363437056.000, ke:342712362548118262762679828480.000, pe:-0.000, sum(vx):55920.63670, sum(vy):110524.64178, sum(ax):-0.00704, sum(ay):0.04565\n",
      "x:[7.656556467974811e+16, 150841344302.51962, -3515594414914.784, 9044819.678487426, 221748.24966516916, -5679342360.697233, 4159843581.532715, -7.656556242336885e+16, 576046713.3232911, 1734109050.1688054, -7661840866949.74, -813954080522.7152, 813482748362.3329, 3515998253926.498, 7659585403925.874, -151578868528.24036]\n",
      "y:[1.0709005978165451e+17, -4722739904438.335, 11462777215966.398, 7712182333.526504, 3687507.22045139, -47270994994.61637, -2651673627.482179, -1.0709005899448291e+17, -7673400392.877389, 45444960218.3633, -5056735958206.828, 485683979633.4775, -485772314402.84906, -11463969669406.89, 5057150758919.27, 4727254653904.55]\n",
      "vx:[7674264834160748.0, 15121644754.152178, -352374431903.21375, 1020299.0480665974, 109347.47705620849, -569449948.041957, 417110442.5995495, -7674264607972151.0, 57873581.84397947, 173968080.67843235, -767971654630.6965, -81581738200.68993, 81534500292.70303, 352414904603.824, 767745588949.6963, -15195578345.722677]\n",
      "vy:[1.0733774162089454e+16, -473444696340.49457, 1148934759709.1611, 773334275.9832504, 482175.6750449567, -4739433240.683738, -265929033.73296842, -1.0733774083148586e+16, -769446327.5259117, 4556366863.471514, -506853417686.88666, 48679628974.17461, -48688482243.942085, -1149054274562.7456, 506894993150.666, 473897283941.4299]\n"
     ]
    },
    {
     "data": {
      "image/png": "[encoded data removed]",
      "text/plain": [
       "<Figure size 432x288 with 1 Axes>"
      ]
     },
     "metadata": {
      "needs_background": "light"
     },
     "output_type": "display_data"
    },
    {
     "name": "stdout",
     "output_type": "stream",
     "text": [
      "ncum:210000, t:3360000, E:377923430486199651654149603328.000, mean_ke/N:842748901601494180036608.000, p:374555067378441857794048.000, ke:377923430486199651654149603328.000, pe:-0.000, sum(vx):63308.32383, sum(vy):120247.40179, sum(ax):-0.00704, sum(ay):0.04565\n",
      "ncum:220000, t:3520000, E:414855978526667215325385195520.000, mean_ke/N:922298945428320321273856.000, p:409910642412586824368128.000, ke:414855978526667215325385195520.000, pe:-0.000, sum(vx):70695.01097, sum(vy):129969.78180, sum(ax):-0.00704, sum(ay):0.04565\n",
      "ncum:230000, t:3680000, E:453510006669521094513874960384.000, mean_ke/N:1005435406135111016513536.000, p:446860180504493800030208.000, ke:453510006669521094513874960384.000, pe:-0.000, sum(vx):78083.69810, sum(vy):139689.32098, sum(ax):-0.00704, sum(ay):0.04565\n",
      "ncum:240000, t:3840000, E:493885514915145854406549831680.000, mean_ke/N:1092158283721967331704832.000, p:485403681654207680610304.000, ke:493885514915145854406549831680.000, pe:-0.000, sum(vx):74786.38523, sum(vy):149411.87561, sum(ax):-0.00704, sum(ay):0.04565\n",
      "ncum:250000, t:4000000, E:535982503263538117303689281536.000, mean_ke/N:1182467578188973152927744.000, p:525541145861765845745664.000, ke:535982503263538117303689281536.000, pe:-0.000, sum(vx):62173.07261, sum(vy):159130.19421, sum(ax):-0.00704, sum(ay):0.04565\n",
      "ncum:260000, t:4160000, E:579800971714376720256866451456.000, mean_ke/N:1276363289536122440384512.000, p:567272573127165543972864.000, ke:579800971714376720256866451456.000, pe:-0.000, sum(vx):49559.75999, sum(vy):168848.51282, sum(ax):-0.00704, sum(ay):0.04565\n",
      "ncum:270000, t:4320000, E:625340920267661592897337163776.000, mean_ke/N:1373845417763410093801472.000, p:610597963450404426481664.000, ke:625340920267661592897337163776.000, pe:-0.000, sum(vx):36946.44712, sum(vy):178570.83118, sum(ax):-0.00704, sum(ay):0.04565\n",
      "ncum:280000, t:4480000, E:672602348923392664856357240832.000, mean_ke/N:1474913962870831147122688.000, p:655517316831480480006144.000, ke:672602348923392664856357240832.000, pe:-0.000, sum(vx):24335.13450, sum(vy):188291.14954, sum(ax):-0.00704, sum(ay):0.04565\n",
      "ncum:290000, t:4640000, E:721585257681570710190112636928.000, mean_ke/N:1579568924858382379122688.000, p:702030633270392228151296.000, ke:721585257681570710190112636928.000, pe:-0.000, sum(vx):11722.74351, sum(vy):198009.58875, sum(ax):-0.00704, sum(ay):0.04565\n",
      "ncum:300000, t:4800000, E:772289646542194532629952331776.000, mean_ke/N:1687810303726060300140544.000, p:750137912767137926086656.000, ke:772289646542194532629952331776.000, pe:-0.000, sum(vx):-888.12795, sum(vy):207728.05969, sum(ax):-0.00704, sum(ay):0.04565\n",
      "x:[1.725379597419653e+17, 339954443056.6237, -7922302857495.081, 21196676.233193737, 989767.7607072215, -12800343891.398113, 9375630463.148438, -1.725379546571327e+17, 1299238480.5772305, 3909200015.5755363, -17265936106868.994, -1834188730439.8367, 1833126663907.3777, 7923212826246.411, 17260853529933.514, -341616588426.95483]\n",
      "y:[2.4132389672290602e+17, -10643713914988.453, 25831075586098.176, 17383235494.57974, 9117599.412989726, -106543746185.22748, -5976785361.1213665, -2.413238949483279e+17, -17295829893.012142, 102428228404.97632, -11395340149043.006, 1094455324453.889, -1094654374354.1924, -25833762646017.41, 11396274880494.373, 10653888780896.191]\n",
      "vx:[1.1520252638160748e+16, 22701170791.853424, -528969142559.952, 1530077.3606590044, 164256.9742471738, -854873212.3308593, 626169024.3094113, -1.1520252298702836e+16, 86885061.72193071, 261170984.4319514, -1152851362150.2278, -122465720622.56493, 122394811419.41202, 529029896010.074, 1152512003918.8796, -22812161799.85476]\n",
      "vy:[1.6113047018889454e+16, -710752598851.2175, 1724730792277.5205, 1161000232.891121, 723845.1801577612, -7115260755.713645, -399214645.8511005, -1.6113046900348586e+16, -1155163429.6720603, 6840429614.478594, -760870080648.6921, 73075003943.65703, -73088293744.21819, -1724910199318.605, 760932491539.3379, 711432036801.7736]\n"
     ]
    },
    {
     "data": {
      "image/png": "[encoded data removed]",
      "text/plain": [
       "<Figure size 432x288 with 1 Axes>"
      ]
     },
     "metadata": {
      "needs_background": "light"
     },
     "output_type": "display_data"
    },
    {
     "name": "stdout",
     "output_type": "stream",
     "text": [
      "ncum:310000, t:4960000, E:824715515505264976600806457344.000, mean_ke/N:1799638099473861688950784.000, p:799839155321716365852672.000, ke:824715515505264976600806457344.000, pe:-0.000, sum(vx):-13496.99917, sum(vy):217446.53088, sum(ax):-0.00704, sum(ay):0.04565\n",
      "ncum:320000, t:5120000, E:878862864570781760627698302976.000, mean_ke/N:1915052312101784398069760.000, p:851134360934126339489792.000, ke:878862864570781760627698302976.000, pe:-0.000, sum(vx):-26109.86965, sum(vy):227171.00183, sum(ax):-0.00704, sum(ay):0.04565\n",
      "ncum:330000, t:5280000, E:934731693738745166185604579328.000, mean_ke/N:2034052941609826011578368.000, p:904023529604367175909376.000, ke:934731693738745166185604579328.000, pe:-0.000, sum(vx):-38722.74038, sum(vy):236887.47278, sum(ax):-0.00704, sum(ay):0.04565\n"
     ]
    },
    {
     "ename": "KeyboardInterrupt",
     "evalue": "",
     "output_type": "error",
     "traceback": [
      "\u001b[0;31m---------------------------------------------------------------------------\u001b[0m",
      "\u001b[0;31mKeyboardInterrupt\u001b[0m                         Traceback (most recent call last)",
      "\u001b[0;32m<ipython-input-10-b5112ff7bc43>\u001b[0m in \u001b[0;36m<module>\u001b[0;34m\u001b[0m\n\u001b[1;32m      6\u001b[0m \u001b[0;32mwhile\u001b[0m \u001b[0;34m(\u001b[0m\u001b[0mflag\u001b[0m\u001b[0;34m)\u001b[0m\u001b[0;34m:\u001b[0m\u001b[0;34m\u001b[0m\u001b[0;34m\u001b[0m\u001b[0m\n\u001b[1;32m      7\u001b[0m \u001b[0;31m#     show_positions(flag)\u001b[0m\u001b[0;34m\u001b[0m\u001b[0;34m\u001b[0m\u001b[0;34m\u001b[0m\u001b[0m\n\u001b[0;32m----> 8\u001b[0;31m     \u001b[0mVerlet\u001b[0m\u001b[0;34m(\u001b[0m\u001b[0;34m)\u001b[0m\u001b[0;34m\u001b[0m\u001b[0;34m\u001b[0m\u001b[0m\n\u001b[0m\u001b[1;32m      9\u001b[0m     \u001b[0mncum\u001b[0m \u001b[0;34m=\u001b[0m \u001b[0mncum\u001b[0m \u001b[0;34m+\u001b[0m \u001b[0;36m1\u001b[0m\u001b[0;34m\u001b[0m\u001b[0;34m\u001b[0m\u001b[0m\n\u001b[1;32m     10\u001b[0m     \u001b[0;32mif\u001b[0m\u001b[0;34m(\u001b[0m\u001b[0mncum\u001b[0m \u001b[0;34m%\u001b[0m \u001b[0;36m10000\u001b[0m \u001b[0;34m==\u001b[0m \u001b[0;36m0\u001b[0m\u001b[0;34m)\u001b[0m\u001b[0;34m:\u001b[0m\u001b[0;34m\u001b[0m\u001b[0;34m\u001b[0m\u001b[0m\n",
      "\u001b[0;32m<ipython-input-8-f3014f17f9ed>\u001b[0m in \u001b[0;36mVerlet\u001b[0;34m()\u001b[0m\n\u001b[1;32m     22\u001b[0m         \u001b[0my\u001b[0m\u001b[0;34m[\u001b[0m\u001b[0mi\u001b[0m\u001b[0;34m]\u001b[0m \u001b[0;34m=\u001b[0m \u001b[0mpbc\u001b[0m\u001b[0;34m(\u001b[0m\u001b[0mynew\u001b[0m\u001b[0;34m,\u001b[0m \u001b[0mLy\u001b[0m\u001b[0;34m)\u001b[0m\u001b[0;34m\u001b[0m\u001b[0;34m\u001b[0m\u001b[0m\n\u001b[1;32m     23\u001b[0m \u001b[0;34m\u001b[0m\u001b[0m\n\u001b[0;32m---> 24\u001b[0;31m     \u001b[0maccel\u001b[0m\u001b[0;34m(\u001b[0m\u001b[0;34m)\u001b[0m\u001b[0;34m\u001b[0m\u001b[0;34m\u001b[0m\u001b[0m\n\u001b[0m\u001b[1;32m     25\u001b[0m \u001b[0;34m\u001b[0m\u001b[0m\n\u001b[1;32m     26\u001b[0m     \u001b[0mke\u001b[0m \u001b[0;34m=\u001b[0m \u001b[0;36m0\u001b[0m\u001b[0;34m\u001b[0m\u001b[0;34m\u001b[0m\u001b[0m\n",
      "\u001b[0;32m<ipython-input-6-84c210a10e22>\u001b[0m in \u001b[0;36maccel\u001b[0;34m()\u001b[0m\n\u001b[1;32m     24\u001b[0m             \u001b[0may\u001b[0m\u001b[0;34m[\u001b[0m\u001b[0mj\u001b[0m\u001b[0;34m]\u001b[0m \u001b[0;34m=\u001b[0m \u001b[0may\u001b[0m\u001b[0;34m[\u001b[0m\u001b[0mj\u001b[0m\u001b[0;34m]\u001b[0m \u001b[0;34m-\u001b[0m \u001b[0mfyij\u001b[0m\u001b[0;34m\u001b[0m\u001b[0;34m\u001b[0m\u001b[0m\n\u001b[1;32m     25\u001b[0m             \u001b[0mpe\u001b[0m \u001b[0;34m=\u001b[0m \u001b[0mpe\u001b[0m \u001b[0;34m+\u001b[0m \u001b[0mpot\u001b[0m\u001b[0;34m\u001b[0m\u001b[0;34m\u001b[0m\u001b[0m\n\u001b[0;32m---> 26\u001b[0;31m             \u001b[0mvirial\u001b[0m \u001b[0;34m=\u001b[0m \u001b[0mvirial\u001b[0m \u001b[0;34m+\u001b[0m \u001b[0mdx\u001b[0m\u001b[0;34m*\u001b[0m\u001b[0mfxij\u001b[0m \u001b[0;34m+\u001b[0m \u001b[0mdy\u001b[0m\u001b[0;34m*\u001b[0m\u001b[0mfyij\u001b[0m\u001b[0;34m\u001b[0m\u001b[0;34m\u001b[0m\u001b[0m\n\u001b[0m\u001b[1;32m     27\u001b[0m \u001b[0;34m\u001b[0m\u001b[0m\n",
      "\u001b[0;31mKeyboardInterrupt\u001b[0m: "
     ]
    }
   ],
   "source": [
    "initial()\n",
    "accel()\n",
    "E = ke + pe\n",
    "ncum = 0\n",
    "flag = True\n",
    "while (flag):\n",
    "#     show_positions(flag)\n",
    "    Verlet()\n",
    "    ncum = ncum + 1\n",
    "    if(ncum % 10000 == 0):\n",
    "        show_output()\n",
    "    if(ncum % 100000 == 0):\n",
    "        plt.scatter(x, y)\n",
    "        print(f\"x:{x}\")\n",
    "        print(f\"y:{y}\")\n",
    "        print(f\"vx:{vx}\")\n",
    "        print(f\"vy:{vy}\")\n",
    "        plt.show()\n",
    "        \n",
    "\n",
    "save_config()"
   ]
  },
  {
   "cell_type": "code",
   "execution_count": null,
   "metadata": {},
   "outputs": [],
   "source": []
  }
 ],
 "metadata": {
  "kernelspec": {
   "display_name": "Python 3",
   "language": "python",
   "name": "python3"
  },
  "language_info": {
   "codemirror_mode": {
    "name": "ipython",
    "version": 3
   },
   "file_extension": ".py",
   "mimetype": "text/x-python",
   "name": "python",
   "nbconvert_exporter": "python",
   "pygments_lexer": "ipython3",
   "version": "3.8.6"
  }
 },
 "nbformat": 4,
 "nbformat_minor": 4
}
