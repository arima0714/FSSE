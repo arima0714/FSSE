{
 "cells": [
  {
   "cell_type": "markdown",
   "metadata": {},
   "source": [
    "# 概要\n",
    "\n",
    "* 計算物理学入門のP223～P230に掲載されているプログラム md をPythonで再現するためのファイル\n"
   ]
  },
  {
   "cell_type": "code",
   "execution_count": 1,
   "metadata": {},
   "outputs": [],
   "source": [
    "import sys\n",
    "import time\n",
    "import matplotlib.pyplot as plt"
   ]
  },
  {
   "cell_type": "code",
   "execution_count": 2,
   "metadata": {},
   "outputs": [],
   "source": [
    "# 変数の宣言\n",
    "\n",
    "x = [0] * 36\n",
    "y = [0] * 36\n",
    "vx = [0] * 36\n",
    "vy = [0] * 36\n",
    "ax = [0] * 36\n",
    "ay = [0] * 36\n",
    "\n",
    "N = 0\n",
    "Lx = 0\n",
    "Ly = 0\n",
    "dt = 0\n",
    "dt2 = 0\n",
    "\n",
    "gcum = []\n",
    "for i in range(1000):\n",
    "    gcum.append(i)\n",
    "nbin = 0\n",
    "dr = 0\n",
    "xsave = [0] * 100\n",
    "ysave = [0] * 100\n",
    "R2cum = [0] * 100\n",
    "\n",
    "# 変数の宣言２(グローバルで扱ったほうが良いものを追加している)\n",
    "t = 0\n",
    "ke = 0\n",
    "kecum = 0\n",
    "pecum = 0\n",
    "vcum = 0\n",
    "area = 0\n",
    "pbc = 0\n",
    "\n",
    "pe = 0\n",
    "virial = 0\n",
    "\n",
    "dx = 0\n",
    "dy = 0\n",
    "fx = 0\n",
    "fy = 0\n",
    "fxij = 0\n",
    "fyij = 0\n",
    "pot = 0"
   ]
  },
  {
   "cell_type": "code",
   "execution_count": 3,
   "metadata": {},
   "outputs": [],
   "source": [
    "def initial():\n",
    "    global pbc\n",
    "    abc = 0\n",
    "    global dt\n",
    "    dt = 0.01\n",
    "    global dt2\n",
    "    dt= dt * dt\n",
    "    \n",
    "    response = \"\"\n",
    "    global N\n",
    "    N = 16\n",
    "    global Lx\n",
    "    Lx = 6\n",
    "    global Ly\n",
    "    Ly = 6\n",
    "    \n",
    "    DATA = [\n",
    "        1.09,0.98,-0.33,0.78,3.12,5.25,0.12,-1.19\n",
    "      , 0.08,2.38,-0.08,-0.10,0.54,4.08,-1.94,-0.56\n",
    "      , 2.52,4.39,0.75,0.34,3.03,2.94,1.70,-1.08\n",
    "      , 4.25,3.01,0.84,0.47,0.89,3.11,-1.04,0.06\n",
    "      , 2.76,0.31,1.64,1.36,3.14,1.91,0.38,-1.24\n",
    "      , 0.23,5.71,-1.58,0.55,1.91,2.46,-1.55,-0.16\n",
    "      , 4.77,0.96,-0.23,-0.83,5.10,4.63,-0.31,0.65\n",
    "      , 4.97,5.88,1.18,1.48,3.90,0.20,0.46,-0.51\n",
    "    ]\n",
    "    \n",
    "    global x\n",
    "    global y\n",
    "    global vx\n",
    "    global vy\n",
    "    \n",
    "    for i in range(N):\n",
    "        x[i] = DATA[4*i+0]\n",
    "        y[i] = DATA[4*i+1]\n",
    "        vx[i] = DATA[4*i+2]\n",
    "        vy[i] = DATA[4*i+3]\n",
    "    \n",
    "    global ke\n",
    "    ke = 0\n",
    "    for i in range(N):\n",
    "        ke = ke + vx[i]* vx[i] + vy[i]* vy[i]\n",
    "    ke = 0.5 * ke\n",
    "    global area\n",
    "    area = Lx * Ly\n",
    "    global t\n",
    "    t = 0\n",
    "    global kecum\n",
    "    kecum = 0\n",
    "    global pecum\n",
    "    pecum = 0\n",
    "    global vcum\n",
    "    vcum = 0    "
   ]
  },
  {
   "cell_type": "code",
   "execution_count": 4,
   "metadata": {},
   "outputs": [],
   "source": [
    "def separation(ds, L):\n",
    "    if (ds > 0.5 * L):\n",
    "        return ds - L\n",
    "    elif (ds < -0.5 * L):\n",
    "        return ds + L\n",
    "    else:\n",
    "        return ds"
   ]
  },
  {
   "cell_type": "code",
   "execution_count": 5,
   "metadata": {},
   "outputs": [],
   "source": [
    "def force():\n",
    "    global dx\n",
    "    global dy\n",
    "    global fx\n",
    "    global fy\n",
    "    global fxij\n",
    "    global fyij\n",
    "    global pot\n",
    "    r2 = dx*dx + dy*dy\n",
    "    rm2 = 1/r2\n",
    "    rm6 = rm2 * rm2 * rm2\n",
    "    f_over_r = 24 * rm6 * (2 * rm6 - 1) * rm2\n",
    "    fx = f_over_r * dx\n",
    "    fy = f_over_r * dy\n",
    "    pot = 4 * (rm6 * rm6 - rm6)"
   ]
  },
  {
   "cell_type": "code",
   "execution_count": 6,
   "metadata": {},
   "outputs": [],
   "source": [
    "def accel():\n",
    "    global pe\n",
    "    pe = 0\n",
    "    global virial\n",
    "    virial = 0\n",
    "    global N\n",
    "    global x\n",
    "    global y\n",
    "    global Lx\n",
    "    global Ly\n",
    "    global ax\n",
    "    global ay\n",
    "    global dx\n",
    "    global dy\n",
    "    for i in range(N-1):\n",
    "        for j in range(i+1, N):\n",
    "            dx = separation(x[i] - x[j], Lx)\n",
    "            dy = separation(y[i] - y[j], Ly)\n",
    "            force()\n",
    "            ax[i] = ax[i] + fxij\n",
    "            ay[i] = ay[i] + fyij\n",
    "            ax[j] = ax[j] - fxij\n",
    "            ay[j] = ay[j] - fyij\n",
    "            pe = pe + pot\n",
    "            virial = virial + dx*fxij + dy*fyij\n",
    "            "
   ]
  },
  {
   "cell_type": "code",
   "execution_count": 7,
   "metadata": {},
   "outputs": [],
   "source": [
    "def pbc(pos, L):\n",
    "    if (pos < L):\n",
    "        return (pos+L)\n",
    "    elif(pos > L):\n",
    "        return (pos-L)\n",
    "    else:\n",
    "        return (pos)\n",
    "    "
   ]
  },
  {
   "cell_type": "code",
   "execution_count": 8,
   "metadata": {},
   "outputs": [],
   "source": [
    "def Verlet():\n",
    "    global x\n",
    "    global y\n",
    "    global vx\n",
    "    global vy\n",
    "    global ax\n",
    "    global ay\n",
    "    global N\n",
    "    global Lx\n",
    "    global Ly\n",
    "    global dt\n",
    "    global dt2\n",
    "    global ke\n",
    "    global t\n",
    "    \n",
    "    for i in range(N):\n",
    "        xnew = x[i] + vx[i] * dt + 0.5 * ax[i] * dt2\n",
    "        ynew = y[i] + vy[i] * dt + 0.5 * ay[i] * dt2\n",
    "        vx[i] = vx[i] + 0.5 * ax[i] * dt\n",
    "        vy[i] = vy[i] + 0.5 * ay[i] * dt\n",
    "        x[i] = pbc(xnew, Lx)\n",
    "        y[i] = pbc(ynew, Ly)\n",
    "        \n",
    "    accel()\n",
    "        \n",
    "    ke = 0\n",
    "    for i in range(N):\n",
    "        vx[i] = vx[i] + 0.5 * ax[i] * dt\n",
    "        vy[i] = vy[i] + 0.5 * ay[i] * dt\n",
    "        ke = ke + vx[i] * vx[i] + vy[i] * vy[i]\n",
    "        ke = 0.5 * ke\n",
    "        t = t + 1"
   ]
  },
  {
   "cell_type": "code",
   "execution_count": 9,
   "metadata": {},
   "outputs": [],
   "source": [
    "def show_output():\n",
    "    global t\n",
    "    global ke\n",
    "    global pe\n",
    "    global virial\n",
    "    global kecum\n",
    "    global vcum\n",
    "    global ncum\n",
    "    global area\n",
    "    global N\n",
    "    global Lx\n",
    "    global Ly\n",
    "\n",
    "    print_str = \"\"\n",
    "#     sys.stdout.write(\"%s\" % \"ncum:\"+str(ncum))\n",
    "    print_str += \"ncum:\"+'{:.3f}'.format(ncum)\n",
    "#     sys.stdout.write(\"%s\" % \"t:\"+str(t))\n",
    "    print_str += \", t:\"+'{:.3f}'.format(t)\n",
    "    E = ke + pe\n",
    "#     sys.stdout.write(\"%s\" % \"E:\"+str(E))\n",
    "    print_str += \", E:\"+'{:.3f}'.format(E)\n",
    "    kecum = kecum + ke\n",
    "    vcum = vcum + virial\n",
    "    mean_ke = kecum / ncum\n",
    "    p = mean_ke + (0.5 * vcum) / ncum\n",
    "    p = p / area\n",
    "#     sys.stdout.write(\"%s\" % \"mean_ke/N:\"+str(mean_ke/N))\n",
    "    print_str += \", mean_ke/N:\"+'{:.3f}'.format(mean_ke/N)\n",
    "#     sys.stdout.write(\"%s\" % \"p:\"+str(p))\n",
    "    print_str += \", p:\"+'{:.3f}'.format(p)\n",
    "    print(print_str)\n",
    "    \n"
   ]
  },
  {
   "cell_type": "code",
   "execution_count": 10,
   "metadata": {},
   "outputs": [
    {
     "data": {
      "image/png": "[encoded data removed]",
      "text/plain": [
       "<Figure size 432x288 with 1 Axes>"
      ]
     },
     "metadata": {
      "needs_background": "light"
     },
     "output_type": "display_data"
    },
    {
     "name": "stdout",
     "output_type": "stream",
     "text": [
      "ncum:10000.000, t:160000.000, E:6724974571.666, mean_ke/N:0.000, p:0.000\n",
      "10000\n"
     ]
    },
    {
     "data": {
      "image/png": "[encoded data removed]",
      "text/plain": [
       "<Figure size 432x288 with 1 Axes>"
      ]
     },
     "metadata": {
      "needs_background": "light"
     },
     "output_type": "display_data"
    },
    {
     "name": "stdout",
     "output_type": "stream",
     "text": [
      "ncum:20000.000, t:320000.000, E:1161048.618, mean_ke/N:0.000, p:0.000\n",
      "20000\n"
     ]
    },
    {
     "data": {
      "image/png": "[encoded data removed]",
      "text/plain": [
       "<Figure size 432x288 with 1 Axes>"
      ]
     },
     "metadata": {
      "needs_background": "light"
     },
     "output_type": "display_data"
    },
    {
     "name": "stdout",
     "output_type": "stream",
     "text": [
      "ncum:30000.000, t:480000.000, E:2017223.954, mean_ke/N:0.000, p:0.000\n",
      "30000\n"
     ]
    },
    {
     "data": {
      "image/png": "[encoded data removed]",
      "text/plain": [
       "<Figure size 432x288 with 1 Axes>"
      ]
     },
     "metadata": {
      "needs_background": "light"
     },
     "output_type": "display_data"
    },
    {
     "name": "stdout",
     "output_type": "stream",
     "text": [
      "ncum:40000.000, t:640000.000, E:481718571077333.188, mean_ke/N:0.000, p:0.000\n",
      "40000\n"
     ]
    },
    {
     "data": {
      "image/png": "[encoded data removed]",
      "text/plain": [
       "<Figure size 432x288 with 1 Axes>"
      ]
     },
     "metadata": {
      "needs_background": "light"
     },
     "output_type": "display_data"
    },
    {
     "name": "stdout",
     "output_type": "stream",
     "text": [
      "ncum:50000.000, t:800000.000, E:1558986024.865, mean_ke/N:0.000, p:0.000\n",
      "50000\n"
     ]
    },
    {
     "data": {
      "image/png": "[encoded data removed]",
      "text/plain": [
       "<Figure size 432x288 with 1 Axes>"
      ]
     },
     "metadata": {
      "needs_background": "light"
     },
     "output_type": "display_data"
    },
    {
     "name": "stdout",
     "output_type": "stream",
     "text": [
      "ncum:60000.000, t:960000.000, E:6763794.064, mean_ke/N:0.000, p:0.000\n",
      "60000\n"
     ]
    },
    {
     "data": {
      "image/png": "[encoded data removed]",
      "text/plain": [
       "<Figure size 432x288 with 1 Axes>"
      ]
     },
     "metadata": {
      "needs_background": "light"
     },
     "output_type": "display_data"
    },
    {
     "name": "stdout",
     "output_type": "stream",
     "text": [
      "ncum:70000.000, t:1120000.000, E:100197877054.328, mean_ke/N:0.000, p:0.000\n",
      "70000\n"
     ]
    },
    {
     "data": {
      "image/png": "[encoded data removed]",
      "text/plain": [
       "<Figure size 432x288 with 1 Axes>"
      ]
     },
     "metadata": {
      "needs_background": "light"
     },
     "output_type": "display_data"
    },
    {
     "name": "stdout",
     "output_type": "stream",
     "text": [
      "ncum:80000.000, t:1280000.000, E:6955.805, mean_ke/N:0.000, p:0.000\n",
      "80000\n"
     ]
    },
    {
     "data": {
      "image/png": "[encoded data removed]",
      "text/plain": [
       "<Figure size 432x288 with 1 Axes>"
      ]
     },
     "metadata": {
      "needs_background": "light"
     },
     "output_type": "display_data"
    },
    {
     "name": "stdout",
     "output_type": "stream",
     "text": [
      "ncum:90000.000, t:1440000.000, E:31691247.177, mean_ke/N:0.000, p:0.000\n",
      "90000\n"
     ]
    },
    {
     "data": {
      "image/png": "[encoded data removed]",
      "text/plain": [
       "<Figure size 432x288 with 1 Axes>"
      ]
     },
     "metadata": {
      "needs_background": "light"
     },
     "output_type": "display_data"
    },
    {
     "name": "stdout",
     "output_type": "stream",
     "text": [
      "ncum:100000.000, t:1600000.000, E:1234432.514, mean_ke/N:0.000, p:0.000\n",
      "100000\n"
     ]
    },
    {
     "data": {
      "image/png": "[encoded data removed]",
      "text/plain": [
       "<Figure size 432x288 with 1 Axes>"
      ]
     },
     "metadata": {
      "needs_background": "light"
     },
     "output_type": "display_data"
    },
    {
     "name": "stdout",
     "output_type": "stream",
     "text": [
      "ncum:110000.000, t:1760000.000, E:34332273674.628, mean_ke/N:0.000, p:0.000\n",
      "110000\n"
     ]
    },
    {
     "data": {
      "image/png": "[encoded data removed]",
      "text/plain": [
       "<Figure size 432x288 with 1 Axes>"
      ]
     },
     "metadata": {
      "needs_background": "light"
     },
     "output_type": "display_data"
    },
    {
     "name": "stdout",
     "output_type": "stream",
     "text": [
      "ncum:120000.000, t:1920000.000, E:165716003691.021, mean_ke/N:0.000, p:0.000\n",
      "120000\n"
     ]
    },
    {
     "data": {
      "image/png": "[encoded data removed]",
      "text/plain": [
       "<Figure size 432x288 with 1 Axes>"
      ]
     },
     "metadata": {
      "needs_background": "light"
     },
     "output_type": "display_data"
    },
    {
     "name": "stdout",
     "output_type": "stream",
     "text": [
      "ncum:130000.000, t:2080000.000, E:1837503413.978, mean_ke/N:0.000, p:0.000\n",
      "130000\n"
     ]
    },
    {
     "data": {
      "image/png": "[encoded data removed]",
      "text/plain": [
       "<Figure size 432x288 with 1 Axes>"
      ]
     },
     "metadata": {
      "needs_background": "light"
     },
     "output_type": "display_data"
    },
    {
     "name": "stdout",
     "output_type": "stream",
     "text": [
      "ncum:140000.000, t:2240000.000, E:6726080503.491, mean_ke/N:0.000, p:0.000\n",
      "140000\n"
     ]
    },
    {
     "data": {
      "image/png": "[encoded data removed]",
      "text/plain": [
       "<Figure size 432x288 with 1 Axes>"
      ]
     },
     "metadata": {
      "needs_background": "light"
     },
     "output_type": "display_data"
    },
    {
     "name": "stdout",
     "output_type": "stream",
     "text": [
      "ncum:150000.000, t:2400000.000, E:3214723162.900, mean_ke/N:0.000, p:0.000\n",
      "150000\n"
     ]
    },
    {
     "data": {
      "image/png": "[encoded data removed]",
      "text/plain": [
       "<Figure size 432x288 with 1 Axes>"
      ]
     },
     "metadata": {
      "needs_background": "light"
     },
     "output_type": "display_data"
    },
    {
     "name": "stdout",
     "output_type": "stream",
     "text": [
      "ncum:160000.000, t:2560000.000, E:44414005463.982, mean_ke/N:0.000, p:0.000\n",
      "160000\n"
     ]
    },
    {
     "ename": "KeyboardInterrupt",
     "evalue": "",
     "output_type": "error",
     "traceback": [
      "\u001b[0;31m---------------------------------------------------------------------------\u001b[0m",
      "\u001b[0;31mKeyboardInterrupt\u001b[0m                         Traceback (most recent call last)",
      "\u001b[0;32m<ipython-input-10-e6c94129b5a3>\u001b[0m in \u001b[0;36m<module>\u001b[0;34m\u001b[0m\n\u001b[1;32m      6\u001b[0m \u001b[0;32mwhile\u001b[0m \u001b[0;34m(\u001b[0m\u001b[0mflag\u001b[0m\u001b[0;34m)\u001b[0m\u001b[0;34m:\u001b[0m\u001b[0;34m\u001b[0m\u001b[0;34m\u001b[0m\u001b[0m\n\u001b[1;32m      7\u001b[0m \u001b[0;31m#     show_positions(flag)\u001b[0m\u001b[0;34m\u001b[0m\u001b[0;34m\u001b[0m\u001b[0;34m\u001b[0m\u001b[0m\n\u001b[0;32m----> 8\u001b[0;31m     \u001b[0mVerlet\u001b[0m\u001b[0;34m(\u001b[0m\u001b[0;34m)\u001b[0m\u001b[0;34m\u001b[0m\u001b[0;34m\u001b[0m\u001b[0m\n\u001b[0m\u001b[1;32m      9\u001b[0m     \u001b[0mncum\u001b[0m \u001b[0;34m=\u001b[0m \u001b[0mncum\u001b[0m \u001b[0;34m+\u001b[0m \u001b[0;36m1\u001b[0m\u001b[0;34m\u001b[0m\u001b[0;34m\u001b[0m\u001b[0m\n\u001b[1;32m     10\u001b[0m     \u001b[0;32mif\u001b[0m\u001b[0;34m(\u001b[0m\u001b[0mncum\u001b[0m \u001b[0;34m%\u001b[0m \u001b[0;36m10000\u001b[0m \u001b[0;34m==\u001b[0m \u001b[0;36m0\u001b[0m\u001b[0;34m)\u001b[0m\u001b[0;34m:\u001b[0m\u001b[0;34m\u001b[0m\u001b[0;34m\u001b[0m\u001b[0m\n",
      "\u001b[0;32m<ipython-input-8-f3014f17f9ed>\u001b[0m in \u001b[0;36mVerlet\u001b[0;34m()\u001b[0m\n\u001b[1;32m     22\u001b[0m         \u001b[0my\u001b[0m\u001b[0;34m[\u001b[0m\u001b[0mi\u001b[0m\u001b[0;34m]\u001b[0m \u001b[0;34m=\u001b[0m \u001b[0mpbc\u001b[0m\u001b[0;34m(\u001b[0m\u001b[0mynew\u001b[0m\u001b[0;34m,\u001b[0m \u001b[0mLy\u001b[0m\u001b[0;34m)\u001b[0m\u001b[0;34m\u001b[0m\u001b[0;34m\u001b[0m\u001b[0m\n\u001b[1;32m     23\u001b[0m \u001b[0;34m\u001b[0m\u001b[0m\n\u001b[0;32m---> 24\u001b[0;31m     \u001b[0maccel\u001b[0m\u001b[0;34m(\u001b[0m\u001b[0;34m)\u001b[0m\u001b[0;34m\u001b[0m\u001b[0;34m\u001b[0m\u001b[0m\n\u001b[0m\u001b[1;32m     25\u001b[0m \u001b[0;34m\u001b[0m\u001b[0m\n\u001b[1;32m     26\u001b[0m     \u001b[0mke\u001b[0m \u001b[0;34m=\u001b[0m \u001b[0;36m0\u001b[0m\u001b[0;34m\u001b[0m\u001b[0;34m\u001b[0m\u001b[0m\n",
      "\u001b[0;32m<ipython-input-6-6fb285026bcc>\u001b[0m in \u001b[0;36maccel\u001b[0;34m()\u001b[0m\n\u001b[1;32m     23\u001b[0m             \u001b[0may\u001b[0m\u001b[0;34m[\u001b[0m\u001b[0mj\u001b[0m\u001b[0;34m]\u001b[0m \u001b[0;34m=\u001b[0m \u001b[0may\u001b[0m\u001b[0;34m[\u001b[0m\u001b[0mj\u001b[0m\u001b[0;34m]\u001b[0m \u001b[0;34m-\u001b[0m \u001b[0mfyij\u001b[0m\u001b[0;34m\u001b[0m\u001b[0;34m\u001b[0m\u001b[0m\n\u001b[1;32m     24\u001b[0m             \u001b[0mpe\u001b[0m \u001b[0;34m=\u001b[0m \u001b[0mpe\u001b[0m \u001b[0;34m+\u001b[0m \u001b[0mpot\u001b[0m\u001b[0;34m\u001b[0m\u001b[0;34m\u001b[0m\u001b[0m\n\u001b[0;32m---> 25\u001b[0;31m             \u001b[0mvirial\u001b[0m \u001b[0;34m=\u001b[0m \u001b[0mvirial\u001b[0m \u001b[0;34m+\u001b[0m \u001b[0mdx\u001b[0m\u001b[0;34m*\u001b[0m\u001b[0mfxij\u001b[0m \u001b[0;34m+\u001b[0m \u001b[0mdy\u001b[0m\u001b[0;34m*\u001b[0m\u001b[0mfyij\u001b[0m\u001b[0;34m\u001b[0m\u001b[0;34m\u001b[0m\u001b[0m\n\u001b[0m\u001b[1;32m     26\u001b[0m \u001b[0;34m\u001b[0m\u001b[0m\n",
      "\u001b[0;31mKeyboardInterrupt\u001b[0m: "
     ]
    }
   ],
   "source": [
    "initial()\n",
    "accel()\n",
    "E = ke + pe\n",
    "ncum = 0\n",
    "flag = True\n",
    "while (flag):\n",
    "#     show_positions(flag)\n",
    "    Verlet()\n",
    "    ncum = ncum + 1\n",
    "    if(ncum % 10000 == 0):\n",
    "        plt.scatter(x, y)\n",
    "        plt.show()\n",
    "        show_output()\n",
    "        time.sleep(0.1)\n",
    "\n",
    "save_config()"
   ]
  },
  {
   "cell_type": "code",
   "execution_count": null,
   "metadata": {},
   "outputs": [],
   "source": []
  }
 ],
 "metadata": {
  "kernelspec": {
   "display_name": "Python 3",
   "language": "python",
   "name": "python3"
  },
  "language_info": {
   "codemirror_mode": {
    "name": "ipython",
    "version": 3
   },
   "file_extension": ".py",
   "mimetype": "text/x-python",
   "name": "python",
   "nbconvert_exporter": "python",
   "pygments_lexer": "ipython3",
   "version": "3.8.6"
  }
 },
 "nbformat": 4,
 "nbformat_minor": 4
}
