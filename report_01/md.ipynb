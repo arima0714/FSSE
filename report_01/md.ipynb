{
 "cells": [
  {
   "cell_type": "markdown",
   "metadata": {},
   "source": [
    "# 概要\n",
    "\n",
    "* 計算物理学入門のP223～P230に掲載されているプログラム md をPythonで再現するためのファイル\n"
   ]
  },
  {
   "cell_type": "code",
   "execution_count": 1,
   "metadata": {},
   "outputs": [],
   "source": [
    "import sys\n",
    "import time"
   ]
  },
  {
   "cell_type": "code",
   "execution_count": 2,
   "metadata": {},
   "outputs": [],
   "source": [
    "# 変数の宣言\n",
    "\n",
    "x = [0] * 36\n",
    "y = [0] * 36\n",
    "vx = [0] * 36\n",
    "vy = [0] * 36\n",
    "ax = [0] * 36\n",
    "ay = [0] * 36\n",
    "\n",
    "N = 0\n",
    "Lx = 0\n",
    "Ly = 0\n",
    "dt = 0\n",
    "dt2 = 0\n",
    "\n",
    "gcum = []\n",
    "for i in range(1000):\n",
    "    gcum.append(i)\n",
    "nbin = 0\n",
    "dr = 0\n",
    "xsave = [0] * 100\n",
    "ysave = [0] * 100\n",
    "R2cum = [0] * 100\n",
    "\n",
    "# 変数の宣言２(グローバルで扱ったほうが良いものを追加している)\n",
    "t = 0\n",
    "ke = 0\n",
    "kecum = 0\n",
    "pecum = 0\n",
    "vcum = 0\n",
    "area = 0\n",
    "pbc = 0\n",
    "\n",
    "pe = 0\n",
    "virial = 0\n",
    "\n",
    "dx = 0\n",
    "dy = 0\n",
    "fx = 0\n",
    "fy = 0\n",
    "fxij = 0\n",
    "fyij = 0\n",
    "pot = 0"
   ]
  },
  {
   "cell_type": "code",
   "execution_count": 3,
   "metadata": {},
   "outputs": [],
   "source": [
    "def initial():\n",
    "    global pbc\n",
    "    abc = 0\n",
    "    global dt\n",
    "    dt = 0.01\n",
    "    global dt2\n",
    "    dt= dt * dt\n",
    "    \n",
    "    response = \"\"\n",
    "    global N\n",
    "    N = 16\n",
    "    global Lx\n",
    "    Lx = 6\n",
    "    global Ly\n",
    "    Ly = 6\n",
    "    \n",
    "    DATA = [\n",
    "        1.09,0.98,-0.33,0.78,3.12,5.25,0.12,-1.19\n",
    "      , 0.08,2.38,-0.08,-0.10,0.54,4.08,-1.94,-0.56\n",
    "      , 2.52,4.39,0.75,0.34,3.03,2.94,1.70,-1.08\n",
    "      , 4.25,3.01,0.84,0.47,0.89,3.11,-1.04,0.06\n",
    "      , 2.76,0.31,1.64,1.36,3.14,1.91,0.38,-1.24\n",
    "      , 0.23,5.71,-1.58,0.55,1.91,2.46,-1.55,-0.16\n",
    "      , 4.77,0.96,-0.23,-0.83,5.10,4.63,-0.31,0.65\n",
    "      , 4.97,5.88,1.18,1.48,3.90,0.20,0.46,-0.51\n",
    "    ]\n",
    "    \n",
    "    global x\n",
    "    global y\n",
    "    global vx\n",
    "    global vy\n",
    "    \n",
    "    for i in range(N):\n",
    "        x[i] = DATA[4*i+0]\n",
    "        y[i] = DATA[4*i+1]\n",
    "        vx[i] = DATA[4*i+2]\n",
    "        vy[i] = DATA[4*i+3]\n",
    "    \n",
    "    global ke\n",
    "    ke = 0\n",
    "    for i in range(N):\n",
    "        ke = ke + vx[i]* vx[i] + vy[i]* vy[i]\n",
    "    ke = 0.5 * ke\n",
    "    global area\n",
    "    area = Lx * Ly\n",
    "    global t\n",
    "    t = 0\n",
    "    global kecum\n",
    "    kecum = 0\n",
    "    global pecum\n",
    "    pecum = 0\n",
    "    global vcum\n",
    "    vcum = 0    "
   ]
  },
  {
   "cell_type": "code",
   "execution_count": 4,
   "metadata": {},
   "outputs": [],
   "source": [
    "def separation(ds, L):\n",
    "    if (ds > 0.5 * L):\n",
    "        return ds - L\n",
    "    elif (ds < -0.5 * L):\n",
    "        return ds + L\n",
    "    else:\n",
    "        return ds"
   ]
  },
  {
   "cell_type": "code",
   "execution_count": 5,
   "metadata": {},
   "outputs": [],
   "source": [
    "def force():\n",
    "    global dx\n",
    "    global dy\n",
    "    global fx\n",
    "    global fy\n",
    "    global fxij\n",
    "    global fyij\n",
    "    global pot\n",
    "    r2 = dx*dx + dy*dy\n",
    "    rm2 = 1/r2\n",
    "    rm6 = rm2 * rm2 * rm2\n",
    "    f_over_r = 24 * rm6 * (2 * rm6 - 1) * rm2\n",
    "    fx = f_over_r * dx\n",
    "    fy = f_over_r * dy\n",
    "    pot = 4 * (rm6 * rm6 - rm6)"
   ]
  },
  {
   "cell_type": "code",
   "execution_count": 6,
   "metadata": {},
   "outputs": [],
   "source": [
    "def accel():\n",
    "    global pe\n",
    "    pe = 0\n",
    "    global virial\n",
    "    virial = 0\n",
    "    global N\n",
    "    print(N)\n",
    "    global x\n",
    "    global y\n",
    "    global Lx\n",
    "    global Ly\n",
    "    global ax\n",
    "    global ay\n",
    "    global dx\n",
    "    global dy\n",
    "    for i in range(N-1):\n",
    "        for j in range(i+1, N):\n",
    "            dx = separation(x[i] - x[j], Lx)\n",
    "            dy = separation(y[i] - y[j], Ly)\n",
    "            force()\n",
    "            ax[i] = ax[i] + fxij\n",
    "            ay[i] = ay[i] + fyij\n",
    "            ax[j] = ax[j] - fxij\n",
    "            ay[j] = ay[j] - fyij\n",
    "            pe = pe + pot\n",
    "            virial = virial + dx*fxij + dy*fyij\n",
    "            "
   ]
  },
  {
   "cell_type": "code",
   "execution_count": 7,
   "metadata": {},
   "outputs": [],
   "source": [
    "def pbc(pos, L):\n",
    "    if (pos < L):\n",
    "        return (pos+L)\n",
    "    elif(pos > L):\n",
    "        return (pos-L)\n",
    "    else:\n",
    "        return (pos)\n",
    "    "
   ]
  },
  {
   "cell_type": "code",
   "execution_count": 8,
   "metadata": {},
   "outputs": [],
   "source": [
    "def Verlet():\n",
    "    global x\n",
    "    global y\n",
    "    global vx\n",
    "    global vy\n",
    "    global ax\n",
    "    global ay\n",
    "    global N\n",
    "    global Lx\n",
    "    global Ly\n",
    "    global dt\n",
    "    global dt2\n",
    "    global ke\n",
    "    global t\n",
    "    \n",
    "    for i in range(N):\n",
    "        xnew = x[i] + vx[i] * dt + 0.5 * ax[i] * dt2\n",
    "        ynew = y[i] + vy[i] * dt + 0.5 * ay[i] * dt2\n",
    "        vx[i] = vx[i] + 0.5 * ax[i] * dt\n",
    "        vy[i] = vy[i] + 0.5 * ay[i] * dt\n",
    "        x[i] = pbc(xnew, Lx)\n",
    "        y[i] = pbc(ynew, Ly)\n",
    "        \n",
    "    accel()\n",
    "        \n",
    "    ke = 0\n",
    "    for i in range(N):\n",
    "        vx[i] = vx[i] + 0.5 * ax[i] * dt\n",
    "        vy[i] = vy[i] + 0.5 * ay[i] * dt\n",
    "        ke = ke + vx[i] * vx[i] + vy[i] * vy[i]\n",
    "        ke = 0.5 * ke\n",
    "        t = t + 1"
   ]
  },
  {
   "cell_type": "code",
   "execution_count": 9,
   "metadata": {},
   "outputs": [],
   "source": [
    "def show_output():\n",
    "    global t\n",
    "    global ke\n",
    "    global pe\n",
    "    global virial\n",
    "    global kecum\n",
    "    global vcum\n",
    "    global ncum\n",
    "    global area\n",
    "    global N\n",
    "    global Lx\n",
    "    global Ly\n",
    "\n",
    "    ncum = ncum + 1\n",
    "    sys.stdout.write(\"\\r %s\" % \"ncum:\"+str(ncum))\n",
    "    sys.stdout.write(\"%s\" % \"t:\"+str(t))\n",
    "    E = ke + pe\n",
    "    sys.stdout.write(\"%s\" % \"E:\"+str(E))\n",
    "    kecum = kecum + ke\n",
    "    vcum = vcum + virial\n",
    "    mean_ke = kecum / ncum\n",
    "    p = mean_ke + (0.5 * vcum) / ncum\n",
    "    p = p / area\n",
    "    sys.stdout.write(\"%s\" % \"mean_ke/N:\"+str(mean_ke/N))\n",
    "    sys.stdout.write(\"%s\" % \"p:\"+str(p))\n",
    "    sys.stdout.flush()\n",
    "    time.sleep(0.1)"
   ]
  },
  {
   "cell_type": "code",
   "execution_count": 10,
   "metadata": {},
   "outputs": [
    {
     "name": "stdout",
     "output_type": "stream",
     "text": [
      "16\n",
      "16\n",
      " ncum:1t:16E:-16.142919794946767mean_ke/N:0.08743400945663453p:0.03885955975850423316\n",
      " ncum:2t:32E:-16.140459012706845mean_ke/N:0.08743400945663453p:0.03885955975850423316\n",
      " ncum:3t:48E:-16.137987072035035mean_ke/N:0.08743400945663453p:0.03885955975850423316\n",
      " ncum:4t:64E:-16.135503955466394mean_ke/N:0.08743400945663453p:0.03885955975850423316\n",
      " ncum:5t:80E:-16.13300964543591mean_ke/N:0.08743400945663453p:0.03885955975850423316\n",
      " ncum:6t:96E:-16.130504124278282mean_ke/N:0.08743400945663453p:0.03885955975850423316\n",
      " ncum:7t:112E:-16.127987374227764mean_ke/N:0.08743400945663451p:0.0388595597585042316\n",
      " ncum:8t:128E:-16.125459377418146mean_ke/N:0.08743400945663451p:0.0388595597585042316\n",
      " ncum:9t:144E:-16.122920115882515mean_ke/N:0.08743400945663451p:0.0388595597585042316\n",
      " ncum:10t:160E:-16.120369571553233mean_ke/N:0.08743400945663451p:0.0388595597585042316\n",
      " ncum:11t:176E:-16.117807726261763mean_ke/N:0.0874340094566345p:0.0388595597585042216\n",
      " ncum:12t:192E:-16.115234561738582mean_ke/N:0.0874340094566345p:0.0388595597585042216\n",
      " ncum:13t:208E:-16.112650059612996mean_ke/N:0.08743400945663451p:0.0388595597585042316\n",
      " ncum:14t:224E:-16.110054201413085mean_ke/N:0.08743400945663451p:0.0388595597585042316\n",
      " ncum:15t:240E:-16.107446968565547mean_ke/N:0.08743400945663453p:0.03885955975850423316\n",
      " ncum:16t:256E:-16.10482834239556mean_ke/N:0.08743400945663453p:0.03885955975850423316\n",
      " ncum:17t:272E:-16.10219830412669mean_ke/N:0.08743400945663453p:0.03885955975850423316\n",
      " ncum:18t:288E:-16.09955683488075mean_ke/N:0.08743400945663454p:0.03885955975850424"
     ]
    },
    {
     "ename": "KeyboardInterrupt",
     "evalue": "",
     "output_type": "error",
     "traceback": [
      "\u001b[0;31m---------------------------------------------------------------------------\u001b[0m",
      "\u001b[0;31mKeyboardInterrupt\u001b[0m                         Traceback (most recent call last)",
      "\u001b[0;32m<ipython-input-10-d5aa949c80ae>\u001b[0m in \u001b[0;36m<module>\u001b[0;34m\u001b[0m\n\u001b[1;32m      7\u001b[0m \u001b[0;31m#     show_positions(flag)\u001b[0m\u001b[0;34m\u001b[0m\u001b[0;34m\u001b[0m\u001b[0;34m\u001b[0m\u001b[0m\n\u001b[1;32m      8\u001b[0m     \u001b[0mVerlet\u001b[0m\u001b[0;34m(\u001b[0m\u001b[0;34m)\u001b[0m\u001b[0;34m\u001b[0m\u001b[0;34m\u001b[0m\u001b[0m\n\u001b[0;32m----> 9\u001b[0;31m     \u001b[0mshow_output\u001b[0m\u001b[0;34m(\u001b[0m\u001b[0;34m)\u001b[0m\u001b[0;34m\u001b[0m\u001b[0;34m\u001b[0m\u001b[0m\n\u001b[0m\u001b[1;32m     10\u001b[0m \u001b[0;34m\u001b[0m\u001b[0m\n\u001b[1;32m     11\u001b[0m \u001b[0msave_config\u001b[0m\u001b[0;34m(\u001b[0m\u001b[0;34m)\u001b[0m\u001b[0;34m\u001b[0m\u001b[0;34m\u001b[0m\u001b[0m\n",
      "\u001b[0;32m<ipython-input-9-e50e618ee44b>\u001b[0m in \u001b[0;36mshow_output\u001b[0;34m()\u001b[0m\n\u001b[1;32m     25\u001b[0m     \u001b[0msys\u001b[0m\u001b[0;34m.\u001b[0m\u001b[0mstdout\u001b[0m\u001b[0;34m.\u001b[0m\u001b[0mwrite\u001b[0m\u001b[0;34m(\u001b[0m\u001b[0;34m\"%s\"\u001b[0m \u001b[0;34m%\u001b[0m \u001b[0;34m\"p:\"\u001b[0m\u001b[0;34m+\u001b[0m\u001b[0mstr\u001b[0m\u001b[0;34m(\u001b[0m\u001b[0mp\u001b[0m\u001b[0;34m)\u001b[0m\u001b[0;34m)\u001b[0m\u001b[0;34m\u001b[0m\u001b[0;34m\u001b[0m\u001b[0m\n\u001b[1;32m     26\u001b[0m     \u001b[0msys\u001b[0m\u001b[0;34m.\u001b[0m\u001b[0mstdout\u001b[0m\u001b[0;34m.\u001b[0m\u001b[0mflush\u001b[0m\u001b[0;34m(\u001b[0m\u001b[0;34m)\u001b[0m\u001b[0;34m\u001b[0m\u001b[0;34m\u001b[0m\u001b[0m\n\u001b[0;32m---> 27\u001b[0;31m     \u001b[0mtime\u001b[0m\u001b[0;34m.\u001b[0m\u001b[0msleep\u001b[0m\u001b[0;34m(\u001b[0m\u001b[0;36m0.1\u001b[0m\u001b[0;34m)\u001b[0m\u001b[0;34m\u001b[0m\u001b[0;34m\u001b[0m\u001b[0m\n\u001b[0m",
      "\u001b[0;31mKeyboardInterrupt\u001b[0m: "
     ]
    }
   ],
   "source": [
    "initial()\n",
    "accel()\n",
    "E = ke + pe\n",
    "ncum = 0\n",
    "flag = True\n",
    "while (flag):\n",
    "#     show_positions(flag)\n",
    "    Verlet()\n",
    "    show_output()\n",
    "    \n",
    "save_config()"
   ]
  },
  {
   "cell_type": "code",
   "execution_count": 11,
   "metadata": {},
   "outputs": [
    {
     "ename": "AttributeError",
     "evalue": "'Axes3D' object has no attribute 'plot_fireframe'",
     "output_type": "error",
     "traceback": [
      "\u001b[0;31m---------------------------------------------------------------------------\u001b[0m",
      "\u001b[0;31mAttributeError\u001b[0m                            Traceback (most recent call last)",
      "\u001b[0;32m<ipython-input-11-334c42878655>\u001b[0m in \u001b[0;36m<module>\u001b[0;34m\u001b[0m\n\u001b[1;32m     11\u001b[0m \u001b[0mfig\u001b[0m \u001b[0;34m=\u001b[0m \u001b[0mplt\u001b[0m\u001b[0;34m.\u001b[0m\u001b[0mfigure\u001b[0m\u001b[0;34m(\u001b[0m\u001b[0;34m)\u001b[0m\u001b[0;34m\u001b[0m\u001b[0;34m\u001b[0m\u001b[0m\n\u001b[1;32m     12\u001b[0m \u001b[0max\u001b[0m \u001b[0;34m=\u001b[0m \u001b[0mAxes3D\u001b[0m\u001b[0;34m(\u001b[0m\u001b[0mfig\u001b[0m\u001b[0;34m)\u001b[0m\u001b[0;34m\u001b[0m\u001b[0;34m\u001b[0m\u001b[0m\n\u001b[0;32m---> 13\u001b[0;31m \u001b[0max\u001b[0m\u001b[0;34m.\u001b[0m\u001b[0mplot_fireframe\u001b[0m\u001b[0;34m(\u001b[0m\u001b[0mX\u001b[0m\u001b[0;34m,\u001b[0m \u001b[0mY\u001b[0m\u001b[0;34m,\u001b[0m \u001b[0mZ\u001b[0m\u001b[0;34m)\u001b[0m\u001b[0;34m\u001b[0m\u001b[0;34m\u001b[0m\u001b[0m\n\u001b[0m\u001b[1;32m     14\u001b[0m \u001b[0;34m\u001b[0m\u001b[0m\n\u001b[1;32m     15\u001b[0m \u001b[0mplt\u001b[0m\u001b[0;34m.\u001b[0m\u001b[0mshow\u001b[0m\u001b[0;34m(\u001b[0m\u001b[0;34m)\u001b[0m\u001b[0;34m\u001b[0m\u001b[0;34m\u001b[0m\u001b[0m\n",
      "\u001b[0;31mAttributeError\u001b[0m: 'Axes3D' object has no attribute 'plot_fireframe'"
     ]
    },
    {
     "data": {
      "image/png": "[encoded data removed]",
      "text/plain": [
       "<Figure size 432x288 with 1 Axes>"
      ]
     },
     "metadata": {
      "needs_background": "light"
     },
     "output_type": "display_data"
    }
   ],
   "source": [
    "%matplotlib inline\n",
    "from mpl_toolkits.mplot3d import Axes3D\n",
    "import matplotlib.pyplot as plt\n",
    "import numpy as np\n",
    "\n",
    "x = np.arange(-3, 3, 0.25)\n",
    "y = np.arange(-3, 3, -.25)\n",
    "X, Y = np.meshgrid(x, y)\n",
    "Z = np.sin(X) + np.cos(Y)\n",
    "\n",
    "fig = plt.figure()\n",
    "ax = Axes3D(fig)\n",
    "ax.plot_fireframe(X, Y, Z)\n",
    "\n",
    "plt.show()"
   ]
  },
  {
   "cell_type": "code",
   "execution_count": 12,
   "metadata": {},
   "outputs": [
    {
     "data": {
      "image/png": "[encoded data removed]",
      "text/plain": [
       "<Figure size 432x288 with 1 Axes>"
      ]
     },
     "metadata": {
      "needs_background": "light"
     },
     "output_type": "display_data"
    }
   ],
   "source": [
    "import matplotlib.pyplot as plt\n",
    "import matplotlib.animation as animation\n",
    "import numpy as np\n",
    "\n",
    "dt = 0.01\n",
    "fig = plt.figure()\n",
    "ims = []\n",
    "\n",
    "for i in range(int(1/dt)):\n",
    "\tt = dt*i\n",
    "\t\n",
    "\tx = np.cos(t*2*np.pi)\n",
    "\ty = np.sin(t*2*np.pi)\n",
    "\tim = plt.plot(x,y,color='b', marker='o', markersize=20)\n",
    "\tims.append(im)\n",
    "\n",
    "ani = animation.ArtistAnimation(fig,ims)\n",
    "plt.show()"
   ]
  },
  {
   "cell_type": "code",
   "execution_count": null,
   "metadata": {},
   "outputs": [],
   "source": []
  }
 ],
 "metadata": {
  "kernelspec": {
   "display_name": "Python 3",
   "language": "python",
   "name": "python3"
  },
  "language_info": {
   "codemirror_mode": {
    "name": "ipython",
    "version": 3
   },
   "file_extension": ".py",
   "mimetype": "text/x-python",
   "name": "python",
   "nbconvert_exporter": "python",
   "pygments_lexer": "ipython3",
   "version": "3.8.6"
  }
 },
 "nbformat": 4,
 "nbformat_minor": 4
}
