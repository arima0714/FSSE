{
 "cells": [
  {
   "cell_type": "markdown",
   "metadata": {},
   "source": [
    "# 概要\n",
    "\n",
    "* 計算物理学入門のP223～P230に掲載されているプログラム md をPythonで再現するためのファイル\n"
   ]
  },
  {
   "cell_type": "code",
   "execution_count": 1,
   "metadata": {},
   "outputs": [],
   "source": [
    "import sys\n",
    "import time\n",
    "import matplotlib.pyplot as plt"
   ]
  },
  {
   "cell_type": "code",
   "execution_count": 2,
   "metadata": {},
   "outputs": [],
   "source": [
    "# 変数の宣言\n",
    "\n",
    "x = [0] * 36\n",
    "y = [0] * 36\n",
    "vx = [0] * 36\n",
    "vy = [0] * 36\n",
    "ax = [0] * 36\n",
    "ay = [0] * 36\n",
    "\n",
    "N = 0\n",
    "Lx = 0\n",
    "Ly = 0\n",
    "dt = 0\n",
    "dt2 = 0\n",
    "\n",
    "gcum = []\n",
    "for i in range(1000):\n",
    "    gcum.append(i)\n",
    "nbin = 0\n",
    "dr = 0\n",
    "xsave = [0] * 100\n",
    "ysave = [0] * 100\n",
    "R2cum = [0] * 100\n",
    "\n",
    "# 変数の宣言２(グローバルで扱ったほうが良いものを追加している)\n",
    "t = 0\n",
    "ke = 0\n",
    "kecum = 0\n",
    "pecum = 0\n",
    "vcum = 0\n",
    "area = 0\n",
    "pbc = 0\n",
    "\n",
    "pe = 0\n",
    "virial = 0\n",
    "\n",
    "dx = 0\n",
    "dy = 0\n",
    "fx = 0\n",
    "fy = 0\n",
    "fxij = 0\n",
    "fyij = 0\n",
    "pot = 0"
   ]
  },
  {
   "cell_type": "code",
   "execution_count": 3,
   "metadata": {},
   "outputs": [],
   "source": [
    "def initial():\n",
    "    global pbc\n",
    "    abc = 0\n",
    "    global dt\n",
    "    dt = 0.01\n",
    "    global dt2\n",
    "    dt= dt * dt\n",
    "    \n",
    "    response = \"\"\n",
    "    global N\n",
    "    N = 16\n",
    "    global Lx\n",
    "    Lx = 6\n",
    "    global Ly\n",
    "    Ly = 6\n",
    "    \n",
    "    DATA = [\n",
    "        1.09,0.98,-0.33,0.78,3.12,5.25,0.12,-1.19\n",
    "      , 0.08,2.38,-0.08,-0.10,0.54,4.08,-1.94,-0.56\n",
    "      , 2.52,4.39,0.75,0.34,3.03,2.94,1.70,-1.08\n",
    "      , 4.25,3.01,0.84,0.47,0.89,3.11,-1.04,0.06\n",
    "      , 2.76,0.31,1.64,1.36,3.14,1.91,0.38,-1.24\n",
    "      , 0.23,5.71,-1.58,0.55,1.91,2.46,-1.55,-0.16\n",
    "      , 4.77,0.96,-0.23,-0.83,5.10,4.63,-0.31,0.65\n",
    "      , 4.97,5.88,1.18,1.48,3.90,0.20,0.46,-0.51\n",
    "    ]\n",
    "    \n",
    "    global x\n",
    "    global y\n",
    "    global vx\n",
    "    global vy\n",
    "    \n",
    "    for i in range(N):\n",
    "        x[i] = DATA[4*i+0]\n",
    "        y[i] = DATA[4*i+1]\n",
    "        vx[i] = DATA[4*i+2]\n",
    "        vy[i] = DATA[4*i+3]\n",
    "    \n",
    "    global ke\n",
    "    ke = 0\n",
    "    for i in range(N):\n",
    "        ke = ke + vx[i]* vx[i] + vy[i]* vy[i]\n",
    "    ke = 0.5 * ke\n",
    "    global area\n",
    "    area = Lx * Ly\n",
    "    global t\n",
    "    t = 0\n",
    "    global kecum\n",
    "    kecum = 0\n",
    "    global pecum\n",
    "    pecum = 0\n",
    "    global vcum\n",
    "    vcum = 0    "
   ]
  },
  {
   "cell_type": "code",
   "execution_count": 4,
   "metadata": {},
   "outputs": [],
   "source": [
    "def separation(ds, L):\n",
    "    if (ds > 0.5 * L):\n",
    "        return ds - L\n",
    "    elif (ds < -0.5 * L):\n",
    "        return ds + L\n",
    "    else:\n",
    "        return ds"
   ]
  },
  {
   "cell_type": "code",
   "execution_count": 5,
   "metadata": {},
   "outputs": [],
   "source": [
    "def force():\n",
    "    global dx\n",
    "    global dy\n",
    "    global fx\n",
    "    global fy\n",
    "    global fxij\n",
    "    global fyij\n",
    "    global pot\n",
    "    r2 = dx*dx + dy*dy\n",
    "    rm2 = 1/r2\n",
    "    rm6 = rm2 * rm2 * rm2\n",
    "    f_over_r = 24 * rm6 * (2 * rm6 - 1) * rm2\n",
    "    fx = f_over_r * dx\n",
    "    fy = f_over_r * dy\n",
    "    pot = 4 * (rm6 * rm6 - rm6)"
   ]
  },
  {
   "cell_type": "code",
   "execution_count": 6,
   "metadata": {},
   "outputs": [],
   "source": [
    "def accel():\n",
    "    global pe\n",
    "    pe = 0\n",
    "    global virial\n",
    "    virial = 0\n",
    "    global N\n",
    "    global x\n",
    "    global y\n",
    "    global Lx\n",
    "    global Ly\n",
    "    global ax\n",
    "    global ay\n",
    "    global dx\n",
    "    global dy\n",
    "    for i in range(N-1):\n",
    "        for j in range(i+1, N):\n",
    "            dx = separation(x[i] - x[j], Lx)\n",
    "            dy = separation(y[i] - y[j], Ly)\n",
    "            force()\n",
    "            ax[i] = ax[i] + fxij\n",
    "            ay[i] = ay[i] + fyij\n",
    "            ax[j] = ax[j] - fxij\n",
    "            ay[j] = ay[j] - fyij\n",
    "            pe = pe + pot\n",
    "            virial = virial + dx*fxij + dy*fyij\n",
    "            "
   ]
  },
  {
   "cell_type": "code",
   "execution_count": 7,
   "metadata": {},
   "outputs": [],
   "source": [
    "def pbc(pos, L):\n",
    "    if (pos < L):\n",
    "        return (pos+L)\n",
    "    elif(pos > L):\n",
    "        return (pos-L)\n",
    "    else:\n",
    "        return (pos)\n",
    "    "
   ]
  },
  {
   "cell_type": "code",
   "execution_count": 8,
   "metadata": {},
   "outputs": [],
   "source": [
    "def Verlet():\n",
    "    global x\n",
    "    global y\n",
    "    global vx\n",
    "    global vy\n",
    "    global ax\n",
    "    global ay\n",
    "    global N\n",
    "    global Lx\n",
    "    global Ly\n",
    "    global dt\n",
    "    global dt2\n",
    "    global ke\n",
    "    global t\n",
    "    \n",
    "    for i in range(N):\n",
    "        xnew = x[i] + vx[i] * dt + 0.5 * ax[i] * dt2\n",
    "        ynew = y[i] + vy[i] * dt + 0.5 * ay[i] * dt2\n",
    "        vx[i] = vx[i] + 0.5 * ax[i] * dt\n",
    "        vy[i] = vy[i] + 0.5 * ay[i] * dt\n",
    "        x[i] = pbc(xnew, Lx)\n",
    "        y[i] = pbc(ynew, Ly)\n",
    "        \n",
    "    accel()\n",
    "        \n",
    "    ke = 0\n",
    "    for i in range(N):\n",
    "        vx[i] = vx[i] + 0.5 * ax[i] * dt\n",
    "        vy[i] = vy[i] + 0.5 * ay[i] * dt\n",
    "        ke = ke + vx[i] * vx[i] + vy[i] * vy[i]\n",
    "        ke = 0.5 * ke\n",
    "        t = t + 1"
   ]
  },
  {
   "cell_type": "code",
   "execution_count": 9,
   "metadata": {},
   "outputs": [],
   "source": [
    "def show_output():\n",
    "    global t\n",
    "    global ke\n",
    "    global pe\n",
    "    global virial\n",
    "    global kecum\n",
    "    global vcum\n",
    "    global ncum\n",
    "    global area\n",
    "    global N\n",
    "    global Lx\n",
    "    global Ly\n",
    "\n",
    "    print_str = \"\"\n",
    "#     sys.stdout.write(\"%s\" % \"ncum:\"+str(ncum))\n",
    "    print_str += \"ncum:\"+str(ncum)\n",
    "#     sys.stdout.write(\"%s\" % \"t:\"+str(t))\n",
    "    print_str += \", t:\"+str(t)\n",
    "    E = ke + pe\n",
    "#     sys.stdout.write(\"%s\" % \"E:\"+str(E))\n",
    "    print_str += \", E:\"+'{:.3f}'.format(E)\n",
    "    kecum = kecum + ke\n",
    "    vcum = vcum + virial\n",
    "    mean_ke = kecum / ncum\n",
    "    p = mean_ke + (0.5 * vcum) / ncum\n",
    "    p = p / area\n",
    "#     sys.stdout.write(\"%s\" % \"mean_ke/N:\"+str(mean_ke/N))\n",
    "    print_str += \", mean_ke/N:\"+'{:.3f}'.format(mean_ke/N)\n",
    "#     sys.stdout.write(\"%s\" % \"p:\"+str(p))\n",
    "    print_str += \", p:\"+'{:.3f}'.format(p)\n",
    "    print(print_str)\n",
    "    \n"
   ]
  },
  {
   "cell_type": "code",
   "execution_count": 10,
   "metadata": {},
   "outputs": [
    {
     "name": "stdout",
     "output_type": "stream",
     "text": [
      "ncum:10000, t:160000, E:6724974571.666, mean_ke/N:0.000, p:0.000\n",
      "ncum:20000, t:320000, E:1161048.618, mean_ke/N:0.000, p:0.000\n",
      "ncum:30000, t:480000, E:2017223.954, mean_ke/N:0.000, p:0.000\n",
      "ncum:40000, t:640000, E:481718571077333.188, mean_ke/N:0.000, p:0.000\n",
      "ncum:50000, t:800000, E:1558986024.865, mean_ke/N:0.000, p:0.000\n",
      "ncum:60000, t:960000, E:6763794.064, mean_ke/N:0.000, p:0.000\n",
      "ncum:70000, t:1120000, E:100197877054.328, mean_ke/N:0.000, p:0.000\n",
      "ncum:80000, t:1280000, E:6955.805, mean_ke/N:0.000, p:0.000\n",
      "ncum:90000, t:1440000, E:31691247.177, mean_ke/N:0.000, p:0.000\n",
      "ncum:100000, t:1600000, E:1234432.514, mean_ke/N:0.000, p:0.000\n"
     ]
    },
    {
     "data": {
      "image/png": "[encoded data removed]",
      "text/plain": [
       "<Figure size 432x288 with 1 Axes>"
      ]
     },
     "metadata": {
      "needs_background": "light"
     },
     "output_type": "display_data"
    },
    {
     "name": "stdout",
     "output_type": "stream",
     "text": [
      "ncum:110000, t:1760000, E:34332273674.628, mean_ke/N:0.000, p:0.000\n",
      "ncum:120000, t:1920000, E:165716003691.021, mean_ke/N:0.000, p:0.000\n",
      "ncum:130000, t:2080000, E:1837503413.978, mean_ke/N:0.000, p:0.000\n",
      "ncum:140000, t:2240000, E:6726080503.491, mean_ke/N:0.000, p:0.000\n",
      "ncum:150000, t:2400000, E:3214723162.900, mean_ke/N:0.000, p:0.000\n",
      "ncum:160000, t:2560000, E:44414005463.982, mean_ke/N:0.000, p:0.000\n",
      "ncum:170000, t:2720000, E:2332079966.600, mean_ke/N:0.000, p:0.000\n",
      "ncum:180000, t:2880000, E:23220.452, mean_ke/N:0.000, p:0.000\n",
      "ncum:190000, t:3040000, E:174508161.841, mean_ke/N:0.000, p:0.000\n",
      "ncum:200000, t:3200000, E:49436893829.754, mean_ke/N:0.000, p:0.000\n"
     ]
    },
    {
     "data": {
      "image/png": "[encoded data removed]",
      "text/plain": [
       "<Figure size 432x288 with 1 Axes>"
      ]
     },
     "metadata": {
      "needs_background": "light"
     },
     "output_type": "display_data"
    },
    {
     "name": "stdout",
     "output_type": "stream",
     "text": [
      "ncum:210000, t:3360000, E:2650962466.639, mean_ke/N:0.000, p:0.000\n",
      "ncum:220000, t:3520000, E:56473.388, mean_ke/N:0.000, p:0.000\n",
      "ncum:230000, t:3680000, E:6230909.500, mean_ke/N:0.000, p:0.000\n",
      "ncum:240000, t:3840000, E:718348986.209, mean_ke/N:0.000, p:0.000\n",
      "ncum:250000, t:4000000, E:18504195.562, mean_ke/N:0.000, p:0.000\n",
      "ncum:260000, t:4160000, E:40029466.465, mean_ke/N:0.000, p:0.000\n",
      "ncum:270000, t:4320000, E:632157891029.174, mean_ke/N:0.000, p:0.000\n",
      "ncum:280000, t:4480000, E:20185.570, mean_ke/N:0.000, p:0.000\n",
      "ncum:290000, t:4640000, E:221321915274.799, mean_ke/N:0.000, p:0.000\n",
      "ncum:300000, t:4800000, E:4955892.573, mean_ke/N:0.000, p:0.000\n"
     ]
    },
    {
     "data": {
      "image/png": "[encoded data removed]",
      "text/plain": [
       "<Figure size 432x288 with 1 Axes>"
      ]
     },
     "metadata": {
      "needs_background": "light"
     },
     "output_type": "display_data"
    },
    {
     "name": "stdout",
     "output_type": "stream",
     "text": [
      "ncum:310000, t:4960000, E:842086737004876.000, mean_ke/N:0.000, p:0.000\n",
      "ncum:320000, t:5120000, E:15258787295660242944.000, mean_ke/N:0.000, p:0.000\n",
      "ncum:330000, t:5280000, E:4802819785679.547, mean_ke/N:0.000, p:0.000\n",
      "ncum:340000, t:5440000, E:6672112.220, mean_ke/N:0.000, p:0.000\n",
      "ncum:350000, t:5600000, E:652.078, mean_ke/N:0.000, p:0.000\n",
      "ncum:360000, t:5760000, E:1274520964880.587, mean_ke/N:0.000, p:0.000\n",
      "ncum:370000, t:5920000, E:1782700.012, mean_ke/N:0.000, p:0.000\n",
      "ncum:380000, t:6080000, E:16424342973.775, mean_ke/N:0.000, p:0.000\n",
      "ncum:390000, t:6240000, E:7473231.203, mean_ke/N:0.000, p:0.000\n",
      "ncum:400000, t:6400000, E:380631681498.234, mean_ke/N:0.000, p:0.000\n"
     ]
    },
    {
     "data": {
      "image/png": "[encoded data removed]",
      "text/plain": [
       "<Figure size 432x288 with 1 Axes>"
      ]
     },
     "metadata": {
      "needs_background": "light"
     },
     "output_type": "display_data"
    },
    {
     "name": "stdout",
     "output_type": "stream",
     "text": [
      "ncum:410000, t:6560000, E:1274521209133.723, mean_ke/N:0.000, p:0.000\n",
      "ncum:420000, t:6720000, E:40458.957, mean_ke/N:0.000, p:0.000\n",
      "ncum:430000, t:6880000, E:12949455201.253, mean_ke/N:0.000, p:0.000\n",
      "ncum:440000, t:7040000, E:845759728.108, mean_ke/N:0.000, p:0.000\n",
      "ncum:450000, t:7200000, E:2181359.615, mean_ke/N:0.000, p:0.000\n",
      "ncum:460000, t:7360000, E:1763182992.723, mean_ke/N:0.000, p:0.000\n",
      "ncum:470000, t:7520000, E:558090.234, mean_ke/N:0.000, p:0.000\n",
      "ncum:480000, t:7680000, E:125793490552.545, mean_ke/N:0.000, p:0.000\n",
      "ncum:490000, t:7840000, E:487729.603, mean_ke/N:0.000, p:0.000\n",
      "ncum:500000, t:8000000, E:191850.491, mean_ke/N:0.000, p:0.000\n"
     ]
    },
    {
     "data": {
      "image/png": "[encoded data removed]",
      "text/plain": [
       "<Figure size 432x288 with 1 Axes>"
      ]
     },
     "metadata": {
      "needs_background": "light"
     },
     "output_type": "display_data"
    },
    {
     "name": "stdout",
     "output_type": "stream",
     "text": [
      "ncum:510000, t:8160000, E:734143.623, mean_ke/N:0.000, p:0.000\n",
      "ncum:520000, t:8320000, E:7174.381, mean_ke/N:0.000, p:0.000\n",
      "ncum:530000, t:8480000, E:14276576571001.457, mean_ke/N:0.000, p:0.000\n",
      "ncum:540000, t:8640000, E:2071.577, mean_ke/N:0.000, p:0.000\n",
      "ncum:550000, t:8800000, E:61805465.839, mean_ke/N:0.000, p:0.000\n",
      "ncum:560000, t:8960000, E:7912.427, mean_ke/N:0.000, p:0.000\n",
      "ncum:570000, t:9120000, E:24359562502897.637, mean_ke/N:0.000, p:0.000\n",
      "ncum:580000, t:9280000, E:4000000119005295616.000, mean_ke/N:0.000, p:0.000\n",
      "ncum:590000, t:9440000, E:9766465.059, mean_ke/N:0.000, p:0.000\n",
      "ncum:600000, t:9600000, E:971501.023, mean_ke/N:0.000, p:0.000\n"
     ]
    },
    {
     "data": {
      "image/png": "[encoded data removed]",
      "text/plain": [
       "<Figure size 432x288 with 1 Axes>"
      ]
     },
     "metadata": {
      "needs_background": "light"
     },
     "output_type": "display_data"
    },
    {
     "name": "stdout",
     "output_type": "stream",
     "text": [
      "ncum:610000, t:9760000, E:354130.940, mean_ke/N:0.000, p:0.000\n",
      "ncum:620000, t:9920000, E:854587940.438, mean_ke/N:0.000, p:0.000\n",
      "ncum:630000, t:10080000, E:53066995.570, mean_ke/N:0.000, p:0.000\n",
      "ncum:640000, t:10240000, E:1393617321.059, mean_ke/N:0.000, p:0.000\n",
      "ncum:650000, t:10400000, E:2425.433, mean_ke/N:0.000, p:0.000\n",
      "ncum:660000, t:10560000, E:556850.444, mean_ke/N:0.000, p:0.000\n",
      "ncum:670000, t:10720000, E:1456321.791, mean_ke/N:0.000, p:0.000\n",
      "ncum:680000, t:10880000, E:58208132269115.836, mean_ke/N:0.000, p:0.000\n",
      "ncum:690000, t:11040000, E:23398664.003, mean_ke/N:0.000, p:0.000\n",
      "ncum:700000, t:11200000, E:266975.578, mean_ke/N:0.000, p:0.000\n"
     ]
    },
    {
     "data": {
      "image/png": "[encoded data removed]",
      "text/plain": [
       "<Figure size 432x288 with 1 Axes>"
      ]
     },
     "metadata": {
      "needs_background": "light"
     },
     "output_type": "display_data"
    },
    {
     "name": "stdout",
     "output_type": "stream",
     "text": [
      "ncum:710000, t:11360000, E:14117.580, mean_ke/N:0.000, p:0.000\n",
      "ncum:720000, t:11520000, E:1048576125637.205, mean_ke/N:0.000, p:0.000\n",
      "ncum:730000, t:11680000, E:1181049.459, mean_ke/N:0.000, p:0.000\n",
      "ncum:740000, t:11840000, E:39280458.031, mean_ke/N:0.000, p:0.000\n",
      "ncum:750000, t:12000000, E:2819923901538.128, mean_ke/N:0.000, p:0.000\n",
      "ncum:760000, t:12160000, E:12948516028545988.000, mean_ke/N:0.000, p:0.000\n",
      "ncum:770000, t:12320000, E:853494104.648, mean_ke/N:0.000, p:0.000\n",
      "ncum:780000, t:12480000, E:4069515.707, mean_ke/N:0.000, p:0.000\n",
      "ncum:790000, t:12640000, E:118927975.630, mean_ke/N:0.000, p:0.000\n"
     ]
    },
    {
     "ename": "KeyboardInterrupt",
     "evalue": "",
     "output_type": "error",
     "traceback": [
      "\u001b[0;31m---------------------------------------------------------------------------\u001b[0m",
      "\u001b[0;31mKeyboardInterrupt\u001b[0m                         Traceback (most recent call last)",
      "\u001b[0;32m<ipython-input-10-55fb27eb4871>\u001b[0m in \u001b[0;36m<module>\u001b[0;34m\u001b[0m\n\u001b[1;32m      6\u001b[0m \u001b[0;32mwhile\u001b[0m \u001b[0;34m(\u001b[0m\u001b[0mflag\u001b[0m\u001b[0;34m)\u001b[0m\u001b[0;34m:\u001b[0m\u001b[0;34m\u001b[0m\u001b[0;34m\u001b[0m\u001b[0m\n\u001b[1;32m      7\u001b[0m \u001b[0;31m#     show_positions(flag)\u001b[0m\u001b[0;34m\u001b[0m\u001b[0;34m\u001b[0m\u001b[0;34m\u001b[0m\u001b[0m\n\u001b[0;32m----> 8\u001b[0;31m     \u001b[0mVerlet\u001b[0m\u001b[0;34m(\u001b[0m\u001b[0;34m)\u001b[0m\u001b[0;34m\u001b[0m\u001b[0;34m\u001b[0m\u001b[0m\n\u001b[0m\u001b[1;32m      9\u001b[0m     \u001b[0mncum\u001b[0m \u001b[0;34m=\u001b[0m \u001b[0mncum\u001b[0m \u001b[0;34m+\u001b[0m \u001b[0;36m1\u001b[0m\u001b[0;34m\u001b[0m\u001b[0;34m\u001b[0m\u001b[0m\n\u001b[1;32m     10\u001b[0m     \u001b[0;32mif\u001b[0m\u001b[0;34m(\u001b[0m\u001b[0mncum\u001b[0m \u001b[0;34m%\u001b[0m \u001b[0;36m10000\u001b[0m \u001b[0;34m==\u001b[0m \u001b[0;36m0\u001b[0m\u001b[0;34m)\u001b[0m\u001b[0;34m:\u001b[0m\u001b[0;34m\u001b[0m\u001b[0;34m\u001b[0m\u001b[0m\n",
      "\u001b[0;32m<ipython-input-8-f3014f17f9ed>\u001b[0m in \u001b[0;36mVerlet\u001b[0;34m()\u001b[0m\n\u001b[1;32m     22\u001b[0m         \u001b[0my\u001b[0m\u001b[0;34m[\u001b[0m\u001b[0mi\u001b[0m\u001b[0;34m]\u001b[0m \u001b[0;34m=\u001b[0m \u001b[0mpbc\u001b[0m\u001b[0;34m(\u001b[0m\u001b[0mynew\u001b[0m\u001b[0;34m,\u001b[0m \u001b[0mLy\u001b[0m\u001b[0;34m)\u001b[0m\u001b[0;34m\u001b[0m\u001b[0;34m\u001b[0m\u001b[0m\n\u001b[1;32m     23\u001b[0m \u001b[0;34m\u001b[0m\u001b[0m\n\u001b[0;32m---> 24\u001b[0;31m     \u001b[0maccel\u001b[0m\u001b[0;34m(\u001b[0m\u001b[0;34m)\u001b[0m\u001b[0;34m\u001b[0m\u001b[0;34m\u001b[0m\u001b[0m\n\u001b[0m\u001b[1;32m     25\u001b[0m \u001b[0;34m\u001b[0m\u001b[0m\n\u001b[1;32m     26\u001b[0m     \u001b[0mke\u001b[0m \u001b[0;34m=\u001b[0m \u001b[0;36m0\u001b[0m\u001b[0;34m\u001b[0m\u001b[0;34m\u001b[0m\u001b[0m\n",
      "\u001b[0;32m<ipython-input-6-6fb285026bcc>\u001b[0m in \u001b[0;36maccel\u001b[0;34m()\u001b[0m\n\u001b[1;32m     15\u001b[0m     \u001b[0;32mfor\u001b[0m \u001b[0mi\u001b[0m \u001b[0;32min\u001b[0m \u001b[0mrange\u001b[0m\u001b[0;34m(\u001b[0m\u001b[0mN\u001b[0m\u001b[0;34m-\u001b[0m\u001b[0;36m1\u001b[0m\u001b[0;34m)\u001b[0m\u001b[0;34m:\u001b[0m\u001b[0;34m\u001b[0m\u001b[0;34m\u001b[0m\u001b[0m\n\u001b[1;32m     16\u001b[0m         \u001b[0;32mfor\u001b[0m \u001b[0mj\u001b[0m \u001b[0;32min\u001b[0m \u001b[0mrange\u001b[0m\u001b[0;34m(\u001b[0m\u001b[0mi\u001b[0m\u001b[0;34m+\u001b[0m\u001b[0;36m1\u001b[0m\u001b[0;34m,\u001b[0m \u001b[0mN\u001b[0m\u001b[0;34m)\u001b[0m\u001b[0;34m:\u001b[0m\u001b[0;34m\u001b[0m\u001b[0;34m\u001b[0m\u001b[0m\n\u001b[0;32m---> 17\u001b[0;31m             \u001b[0mdx\u001b[0m \u001b[0;34m=\u001b[0m \u001b[0mseparation\u001b[0m\u001b[0;34m(\u001b[0m\u001b[0mx\u001b[0m\u001b[0;34m[\u001b[0m\u001b[0mi\u001b[0m\u001b[0;34m]\u001b[0m \u001b[0;34m-\u001b[0m \u001b[0mx\u001b[0m\u001b[0;34m[\u001b[0m\u001b[0mj\u001b[0m\u001b[0;34m]\u001b[0m\u001b[0;34m,\u001b[0m \u001b[0mLx\u001b[0m\u001b[0;34m)\u001b[0m\u001b[0;34m\u001b[0m\u001b[0;34m\u001b[0m\u001b[0m\n\u001b[0m\u001b[1;32m     18\u001b[0m             \u001b[0mdy\u001b[0m \u001b[0;34m=\u001b[0m \u001b[0mseparation\u001b[0m\u001b[0;34m(\u001b[0m\u001b[0my\u001b[0m\u001b[0;34m[\u001b[0m\u001b[0mi\u001b[0m\u001b[0;34m]\u001b[0m \u001b[0;34m-\u001b[0m \u001b[0my\u001b[0m\u001b[0;34m[\u001b[0m\u001b[0mj\u001b[0m\u001b[0;34m]\u001b[0m\u001b[0;34m,\u001b[0m \u001b[0mLy\u001b[0m\u001b[0;34m)\u001b[0m\u001b[0;34m\u001b[0m\u001b[0;34m\u001b[0m\u001b[0m\n\u001b[1;32m     19\u001b[0m             \u001b[0mforce\u001b[0m\u001b[0;34m(\u001b[0m\u001b[0;34m)\u001b[0m\u001b[0;34m\u001b[0m\u001b[0;34m\u001b[0m\u001b[0m\n",
      "\u001b[0;31mKeyboardInterrupt\u001b[0m: "
     ]
    }
   ],
   "source": [
    "initial()\n",
    "accel()\n",
    "E = ke + pe\n",
    "ncum = 0\n",
    "flag = True\n",
    "while (flag):\n",
    "#     show_positions(flag)\n",
    "    Verlet()\n",
    "    ncum = ncum + 1\n",
    "    if(ncum % 10000 == 0):\n",
    "        show_output()\n",
    "    if(ncum % 100000 == 0):\n",
    "        plt.scatter(x, y)\n",
    "        plt.show()\n",
    "\n",
    "save_config()"
   ]
  },
  {
   "cell_type": "code",
   "execution_count": null,
   "metadata": {},
   "outputs": [],
   "source": []
  }
 ],
 "metadata": {
  "kernelspec": {
   "display_name": "Python 3",
   "language": "python",
   "name": "python3"
  },
  "language_info": {
   "codemirror_mode": {
    "name": "ipython",
    "version": 3
   },
   "file_extension": ".py",
   "mimetype": "text/x-python",
   "name": "python",
   "nbconvert_exporter": "python",
   "pygments_lexer": "ipython3",
   "version": "3.8.6"
  }
 },
 "nbformat": 4,
 "nbformat_minor": 4
}
