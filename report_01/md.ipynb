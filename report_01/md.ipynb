{
 "cells": [
  {
   "cell_type": "markdown",
   "metadata": {},
   "source": [
    "# 概要\n",
    "\n",
    "* 計算物理学入門のP223～P230に掲載されているプログラム md をPythonで再現するためのファイル\n"
   ]
  },
  {
   "cell_type": "code",
   "execution_count": 1,
   "metadata": {},
   "outputs": [],
   "source": [
    "# 変数の宣言\n",
    "\n",
    "x = [0] * 36\n",
    "y = [0] * 36\n",
    "vx = [0] * 36\n",
    "vy = [0] * 36\n",
    "ax = [0] * 36\n",
    "ay = [0] * 36\n",
    "\n",
    "N = 0\n",
    "Lx = 0\n",
    "Ly = 0\n",
    "dt = 0\n",
    "dt2 = 0\n",
    "\n",
    "gcum = []\n",
    "for i in range(1000):\n",
    "    gcum.append(i)\n",
    "nbin = 0\n",
    "dr = 0\n",
    "xsave = [0] * 100\n",
    "ysave = [0] * 100\n",
    "R2cum = [0] * 100\n",
    "\n",
    "# 変数の宣言２(グローバルで扱ったほうが良いものを追加している)\n",
    "t = 0\n",
    "ke = 0\n",
    "kecum = 0\n",
    "pecum = 0\n",
    "vcum = 0\n",
    "area = 0\n",
    "pbc = 0\n",
    "\n",
    "pe = 0\n",
    "virial = 0\n",
    "\n",
    "dx = 0\n",
    "dy = 0\n",
    "fx = 0\n",
    "fy = 0\n",
    "fxij = 0\n",
    "fyij = 0\n",
    "pot = 0"
   ]
  },
  {
   "cell_type": "code",
   "execution_count": 2,
   "metadata": {},
   "outputs": [],
   "source": [
    "def initial():\n",
    "    global pbc\n",
    "    abc = 0\n",
    "    global dt\n",
    "    dt = 0.01\n",
    "    global dt2\n",
    "    dt= dt * dt\n",
    "    \n",
    "    response = \"\"\n",
    "    global N\n",
    "    N = 16\n",
    "    global Lx\n",
    "    Lx = 6\n",
    "    global Ly\n",
    "    Ly = 6\n",
    "    \n",
    "    DATA = [\n",
    "        1.09,0.98,-0.33,0.78,3.12,5.25,0.12,-1.19\n",
    "      , 0.08,2.38,-0.08,-0.10,0.54,4.08,-1.94,-0.56\n",
    "      , 2.52,4.39,0.75,0.34,3.03,2.94,1.70,-1.08\n",
    "      , 4.25,3.01,0.84,0.47,0.89,3.11,-1.04,0.06\n",
    "      , 2.76,0.31,1.64,1.36,3.14,1.91,0.38,-1.24\n",
    "      , 0.23,5.71,-1.58,0.55,1.91,2.46,-1.55,-0.16\n",
    "      , 4.77,0.96,-0.23,-0.83,5.10,4.63,-0.31,0.65\n",
    "      , 4.97,5.88,1.18,1.48,3.90,0.20,0.46,-0.51\n",
    "    ]\n",
    "    \n",
    "    global x\n",
    "    global y\n",
    "    global vx\n",
    "    global vy\n",
    "    \n",
    "    for i in range(N):\n",
    "        x[i] = DATA[4*i+0]\n",
    "        y[i] = DATA[4*i+1]\n",
    "        vx[i] = DATA[4*i+2]\n",
    "        vy[i] = DATA[4*i+3]\n",
    "    \n",
    "    global ke\n",
    "    ke = 0\n",
    "    for i in range(N):\n",
    "        ke = ke + vx[i]* vx[i] + vy[i]* vy[i]\n",
    "    ke = 0.5 * ke\n",
    "    global area\n",
    "    area = Lx * Ly\n",
    "    global t\n",
    "    t = 0\n",
    "    global kecum\n",
    "    kecum = 0\n",
    "    global pecum\n",
    "    pecum = 0\n",
    "    global vcum\n",
    "    vcum = 0    "
   ]
  },
  {
   "cell_type": "code",
   "execution_count": 3,
   "metadata": {},
   "outputs": [],
   "source": [
    "def separation(ds, L):\n",
    "    if (ds > 0.5 * L):\n",
    "        return ds - L\n",
    "    elif (ds < -0.5 * L):\n",
    "        return ds + L\n",
    "    else:\n",
    "        return ds"
   ]
  },
  {
   "cell_type": "code",
   "execution_count": 4,
   "metadata": {},
   "outputs": [],
   "source": [
    "def force():\n",
    "    global dx\n",
    "    global dy\n",
    "    global fx\n",
    "    global fy\n",
    "    global fxij\n",
    "    global fyij\n",
    "    global pot\n",
    "    r2 = dx*dx + dy*dy\n",
    "    rm2 = 1/r2\n",
    "    rm6 = rm2 * rm2 * rm2\n",
    "    f_over_r = 24 * rm6 * (2 * rm6 - 1) * rm2\n",
    "    fx = f_over_r * dx\n",
    "    fy = f_over_r * dy\n",
    "    pot = 4 * (rm6 * rm6 - rm6)"
   ]
  },
  {
   "cell_type": "code",
   "execution_count": 5,
   "metadata": {},
   "outputs": [],
   "source": [
    "def accel():\n",
    "    global pe\n",
    "    pe = 0\n",
    "    global virial\n",
    "    virial = 0\n",
    "    global N\n",
    "    print(N)\n",
    "    global x\n",
    "    global y\n",
    "    global Lx\n",
    "    global Ly\n",
    "    global ax\n",
    "    global ay\n",
    "    global dx\n",
    "    global dy\n",
    "    for i in range(N-1):\n",
    "        for j in range(i+1, N):\n",
    "            dx = separation(x[i] - x[j], Lx)\n",
    "            dy = separation(y[i] - y[j], Ly)\n",
    "            force()\n",
    "            ax[i] = ax[i] + fxij\n",
    "            ay[i] = ay[i] + fyij\n",
    "            ax[j] = ax[j] - fxij\n",
    "            ay[j] = ay[j] - fyij\n",
    "            pe = pe + pot\n",
    "            virial = virial + dx*fxij + dy*fyij\n",
    "            "
   ]
  },
  {
   "cell_type": "code",
   "execution_count": 6,
   "metadata": {},
   "outputs": [],
   "source": [
    "def function(pos, L):\n",
    "    pass"
   ]
  },
  {
   "cell_type": "code",
   "execution_count": 7,
   "metadata": {},
   "outputs": [],
   "source": [
    "def Verlet():\n",
    "    global x\n",
    "    global y\n",
    "    global vx\n",
    "    global vy\n",
    "    global ax\n",
    "    global ay\n",
    "    global N\n",
    "    global Lx\n",
    "    global Ly\n",
    "    global dt\n",
    "    global dt2\n",
    "    "
   ]
  },
  {
   "cell_type": "code",
   "execution_count": 8,
   "metadata": {},
   "outputs": [
    {
     "name": "stdout",
     "output_type": "stream",
     "text": [
      "16\n"
     ]
    },
    {
     "ename": "NameError",
     "evalue": "name 'save_config' is not defined",
     "output_type": "error",
     "traceback": [
      "\u001b[0;31m---------------------------------------------------------------------------\u001b[0m",
      "\u001b[0;31mNameError\u001b[0m                                 Traceback (most recent call last)",
      "\u001b[0;32m<ipython-input-8-f563f23c8a50>\u001b[0m in \u001b[0;36m<module>\u001b[0;34m\u001b[0m\n\u001b[1;32m      9\u001b[0m     \u001b[0mshow_output\u001b[0m\u001b[0;34m(\u001b[0m\u001b[0mt\u001b[0m\u001b[0;34m,\u001b[0m \u001b[0mke\u001b[0m\u001b[0;34m,\u001b[0m \u001b[0mpe\u001b[0m\u001b[0;34m,\u001b[0m \u001b[0mvirial\u001b[0m\u001b[0;34m,\u001b[0m \u001b[0mkecum\u001b[0m\u001b[0;34m,\u001b[0m \u001b[0mvcum\u001b[0m\u001b[0;34m,\u001b[0m \u001b[0mncum\u001b[0m\u001b[0;34m,\u001b[0m \u001b[0marea\u001b[0m\u001b[0;34m)\u001b[0m\u001b[0;34m\u001b[0m\u001b[0;34m\u001b[0m\u001b[0m\n\u001b[1;32m     10\u001b[0m \u001b[0;34m\u001b[0m\u001b[0m\n\u001b[0;32m---> 11\u001b[0;31m \u001b[0msave_config\u001b[0m\u001b[0;34m(\u001b[0m\u001b[0;34m)\u001b[0m\u001b[0;34m\u001b[0m\u001b[0;34m\u001b[0m\u001b[0m\n\u001b[0m",
      "\u001b[0;31mNameError\u001b[0m: name 'save_config' is not defined"
     ]
    }
   ],
   "source": [
    "initial()\n",
    "accel()\n",
    "E = ke + pe\n",
    "ncum = 0\n",
    "flag = False\n",
    "while (flag):\n",
    "    show_positions(flag)\n",
    "    Verlet(t, ke, pe, virial)\n",
    "    show_output(t, ke, pe, virial, kecum, vcum, ncum, area)\n",
    "    \n",
    "save_config()"
   ]
  }
 ],
 "metadata": {
  "kernelspec": {
   "display_name": "Python 3",
   "language": "python",
   "name": "python3"
  },
  "language_info": {
   "codemirror_mode": {
    "name": "ipython",
    "version": 3
   },
   "file_extension": ".py",
   "mimetype": "text/x-python",
   "name": "python",
   "nbconvert_exporter": "python",
   "pygments_lexer": "ipython3",
   "version": "3.8.6"
  }
 },
 "nbformat": 4,
 "nbformat_minor": 4
}
